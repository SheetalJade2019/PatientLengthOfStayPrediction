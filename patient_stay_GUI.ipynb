{
 "cells": [
  {
   "cell_type": "code",
   "execution_count": 4,
   "metadata": {},
   "outputs": [],
   "source": [
    "# import lib\n",
    "import pandas as pd\n",
    "import numpy as np\n",
    "import seaborn as sns\n",
    "from matplotlib import pyplot as plt \n",
    "from sklearn import preprocessing\n",
    "from sklearn.model_selection import train_test_split\n",
    "from sklearn.preprocessing import LabelEncoder, RobustScaler\n",
    "from sklearn.ensemble import RandomForestClassifier"
   ]
  },
  {
   "cell_type": "code",
   "execution_count": 5,
   "metadata": {},
   "outputs": [
    {
     "name": "stdout",
     "output_type": "stream",
     "text": [
      "train  (318438, 18)  test  (137057, 17)\n"
     ]
    },
    {
     "data": {
      "text/html": [
       "<div>\n",
       "<style scoped>\n",
       "    .dataframe tbody tr th:only-of-type {\n",
       "        vertical-align: middle;\n",
       "    }\n",
       "\n",
       "    .dataframe tbody tr th {\n",
       "        vertical-align: top;\n",
       "    }\n",
       "\n",
       "    .dataframe thead th {\n",
       "        text-align: right;\n",
       "    }\n",
       "</style>\n",
       "<table border=\"1\" class=\"dataframe\">\n",
       "  <thead>\n",
       "    <tr style=\"text-align: right;\">\n",
       "      <th></th>\n",
       "      <th>case_id</th>\n",
       "      <th>Hospital_code</th>\n",
       "      <th>Hospital_type_code</th>\n",
       "      <th>City_Code_Hospital</th>\n",
       "      <th>Hospital_region_code</th>\n",
       "      <th>Available Extra Rooms in Hospital</th>\n",
       "      <th>Department</th>\n",
       "      <th>Ward_Type</th>\n",
       "      <th>Ward_Facility_Code</th>\n",
       "      <th>Bed Grade</th>\n",
       "      <th>patientid</th>\n",
       "      <th>City_Code_Patient</th>\n",
       "      <th>Type of Admission</th>\n",
       "      <th>Severity of Illness</th>\n",
       "      <th>Visitors with Patient</th>\n",
       "      <th>Age</th>\n",
       "      <th>Admission_Deposit</th>\n",
       "      <th>Stay</th>\n",
       "    </tr>\n",
       "  </thead>\n",
       "  <tbody>\n",
       "    <tr>\n",
       "      <th>0</th>\n",
       "      <td>1</td>\n",
       "      <td>8</td>\n",
       "      <td>c</td>\n",
       "      <td>3</td>\n",
       "      <td>Z</td>\n",
       "      <td>3</td>\n",
       "      <td>radiotherapy</td>\n",
       "      <td>R</td>\n",
       "      <td>F</td>\n",
       "      <td>2.0</td>\n",
       "      <td>31397</td>\n",
       "      <td>7.0</td>\n",
       "      <td>Emergency</td>\n",
       "      <td>Extreme</td>\n",
       "      <td>2</td>\n",
       "      <td>51-60</td>\n",
       "      <td>4911.0</td>\n",
       "      <td>0-10</td>\n",
       "    </tr>\n",
       "    <tr>\n",
       "      <th>1</th>\n",
       "      <td>2</td>\n",
       "      <td>2</td>\n",
       "      <td>c</td>\n",
       "      <td>5</td>\n",
       "      <td>Z</td>\n",
       "      <td>2</td>\n",
       "      <td>radiotherapy</td>\n",
       "      <td>S</td>\n",
       "      <td>F</td>\n",
       "      <td>2.0</td>\n",
       "      <td>31397</td>\n",
       "      <td>7.0</td>\n",
       "      <td>Trauma</td>\n",
       "      <td>Extreme</td>\n",
       "      <td>2</td>\n",
       "      <td>51-60</td>\n",
       "      <td>5954.0</td>\n",
       "      <td>41-50</td>\n",
       "    </tr>\n",
       "  </tbody>\n",
       "</table>\n",
       "</div>"
      ],
      "text/plain": [
       "   case_id  Hospital_code Hospital_type_code  City_Code_Hospital  \\\n",
       "0        1              8                  c                   3   \n",
       "1        2              2                  c                   5   \n",
       "\n",
       "  Hospital_region_code  Available Extra Rooms in Hospital    Department  \\\n",
       "0                    Z                                  3  radiotherapy   \n",
       "1                    Z                                  2  radiotherapy   \n",
       "\n",
       "  Ward_Type Ward_Facility_Code  Bed Grade  patientid  City_Code_Patient  \\\n",
       "0         R                  F        2.0      31397                7.0   \n",
       "1         S                  F        2.0      31397                7.0   \n",
       "\n",
       "  Type of Admission Severity of Illness  Visitors with Patient    Age  \\\n",
       "0         Emergency             Extreme                      2  51-60   \n",
       "1            Trauma             Extreme                      2  51-60   \n",
       "\n",
       "   Admission_Deposit   Stay  \n",
       "0             4911.0   0-10  \n",
       "1             5954.0  41-50  "
      ]
     },
     "execution_count": 5,
     "metadata": {},
     "output_type": "execute_result"
    }
   ],
   "source": [
    "df_train = pd.read_csv(\"E:/ML/AISS/patient_stay_2_1310/dataset/train_data.csv\")\n",
    "df_test = pd.read_csv(\"E:/ML/AISS/patient_stay_2_1310/dataset/test_data.csv\")\n",
    "print(\"train \",df_train.shape, \" test \", df_test.shape)\n",
    "df_train.head(2)"
   ]
  },
  {
   "cell_type": "code",
   "execution_count": 6,
   "metadata": {},
   "outputs": [],
   "source": [
    "label_encoder = preprocessing.LabelEncoder()"
   ]
  },
  {
   "cell_type": "code",
   "execution_count": 7,
   "metadata": {},
   "outputs": [
    {
     "name": "stdout",
     "output_type": "stream",
     "text": [
      "['0-10' '41-50' '31-40' '11-20' '51-60' '21-30' '71-80'\n",
      " 'More than 100 Days' '81-90' '61-70' '91-100']\n",
      "[ 0  4  3  1  5  2  7 10  8  6  9]\n"
     ]
    }
   ],
   "source": [
    "print(df_train.Stay.unique())\n",
    "df_train['Stay'] = label_encoder.fit_transform(df_train['Stay'])\n",
    "print(df_train.Stay.unique())\n",
    "stay_train = df_train.Stay"
   ]
  },
  {
   "cell_type": "code",
   "execution_count": 8,
   "metadata": {},
   "outputs": [
    {
     "name": "stdout",
     "output_type": "stream",
     "text": [
      "(318438, 10) (137057, 10)\n"
     ]
    }
   ],
   "source": [
    "X = df_train.drop([\"Stay\",\"Hospital_type_code\",\"City_Code_Hospital\",\"Hospital_region_code\", \"Department\",\"Ward_Facility_Code\",\"Type of Admission\",\"Severity of Illness\"], axis=1)\n",
    "#X = df_train.drop(\"Stay\", axis=1)\n",
    "y = df_test.drop([\"Hospital_type_code\",\"City_Code_Hospital\",\"Hospital_region_code\", \"Department\",\"Ward_Facility_Code\",\"Type of Admission\",\"Severity of Illness\"], axis=1)\n",
    "print(X.shape, y.shape)\n",
    "data = pd.concat([X,y])"
   ]
  },
  {
   "cell_type": "code",
   "execution_count": 9,
   "metadata": {},
   "outputs": [
    {
     "name": "stdout",
     "output_type": "stream",
     "text": [
      "(455495, 10)\n"
     ]
    },
    {
     "data": {
      "text/html": [
       "<div>\n",
       "<style scoped>\n",
       "    .dataframe tbody tr th:only-of-type {\n",
       "        vertical-align: middle;\n",
       "    }\n",
       "\n",
       "    .dataframe tbody tr th {\n",
       "        vertical-align: top;\n",
       "    }\n",
       "\n",
       "    .dataframe thead th {\n",
       "        text-align: right;\n",
       "    }\n",
       "</style>\n",
       "<table border=\"1\" class=\"dataframe\">\n",
       "  <thead>\n",
       "    <tr style=\"text-align: right;\">\n",
       "      <th></th>\n",
       "      <th>case_id</th>\n",
       "      <th>Hospital_code</th>\n",
       "      <th>Available Extra Rooms in Hospital</th>\n",
       "      <th>Ward_Type</th>\n",
       "      <th>Bed Grade</th>\n",
       "      <th>patientid</th>\n",
       "      <th>City_Code_Patient</th>\n",
       "      <th>Visitors with Patient</th>\n",
       "      <th>Age</th>\n",
       "      <th>Admission_Deposit</th>\n",
       "    </tr>\n",
       "  </thead>\n",
       "  <tbody>\n",
       "    <tr>\n",
       "      <th>0</th>\n",
       "      <td>1</td>\n",
       "      <td>8</td>\n",
       "      <td>3</td>\n",
       "      <td>R</td>\n",
       "      <td>2.0</td>\n",
       "      <td>31397</td>\n",
       "      <td>7.0</td>\n",
       "      <td>2</td>\n",
       "      <td>51-60</td>\n",
       "      <td>4911.0</td>\n",
       "    </tr>\n",
       "    <tr>\n",
       "      <th>1</th>\n",
       "      <td>2</td>\n",
       "      <td>2</td>\n",
       "      <td>2</td>\n",
       "      <td>S</td>\n",
       "      <td>2.0</td>\n",
       "      <td>31397</td>\n",
       "      <td>7.0</td>\n",
       "      <td>2</td>\n",
       "      <td>51-60</td>\n",
       "      <td>5954.0</td>\n",
       "    </tr>\n",
       "  </tbody>\n",
       "</table>\n",
       "</div>"
      ],
      "text/plain": [
       "   case_id  Hospital_code  Available Extra Rooms in Hospital Ward_Type  \\\n",
       "0        1              8                                  3         R   \n",
       "1        2              2                                  2         S   \n",
       "\n",
       "   Bed Grade  patientid  City_Code_Patient  Visitors with Patient    Age  \\\n",
       "0        2.0      31397                7.0                      2  51-60   \n",
       "1        2.0      31397                7.0                      2  51-60   \n",
       "\n",
       "   Admission_Deposit  \n",
       "0             4911.0  \n",
       "1             5954.0  "
      ]
     },
     "execution_count": 9,
     "metadata": {},
     "output_type": "execute_result"
    }
   ],
   "source": [
    "print(data.shape)\n",
    "data.head(2)"
   ]
  },
  {
   "cell_type": "code",
   "execution_count": 10,
   "metadata": {},
   "outputs": [
    {
     "name": "stdout",
     "output_type": "stream",
     "text": [
      "(455495, 10)\n"
     ]
    }
   ],
   "source": [
    "# rename columns\n",
    "original_col = data.columns\n",
    "new_col = ['case_id','Hospital_code','Available_Extra_Rooms_in_Hospital','Ward_Type','Bed_Grade','patientid','City_Code_Patient','Visitors_with_Patient','Age','Admission_Deposit']                                                                                                               \n",
    "data =data.rename(columns=dict(zip(original_col, new_col)))\n",
    "print(data.shape)\n",
    "#print(data.head())"
   ]
  },
  {
   "cell_type": "code",
   "execution_count": 11,
   "metadata": {},
   "outputs": [
    {
     "data": {
      "text/plain": [
       "case_id                                 0\n",
       "Hospital_code                           0\n",
       "Available_Extra_Rooms_in_Hospital       0\n",
       "Ward_Type                               0\n",
       "Bed_Grade                             148\n",
       "patientid                               0\n",
       "City_Code_Patient                    6689\n",
       "Visitors_with_Patient                   0\n",
       "Age                                     0\n",
       "Admission_Deposit                       0\n",
       "dtype: int64"
      ]
     },
     "execution_count": 11,
     "metadata": {},
     "output_type": "execute_result"
    }
   ],
   "source": [
    "data.isnull().sum()"
   ]
  },
  {
   "cell_type": "code",
   "execution_count": 12,
   "metadata": {},
   "outputs": [
    {
     "name": "stdout",
     "output_type": "stream",
     "text": [
      "0    2.0\n",
      "dtype: float64\n",
      "0    8.0\n",
      "dtype: float64\n"
     ]
    }
   ],
   "source": [
    "print(data.Bed_Grade.mode())\n",
    "data.Bed_Grade = data.Bed_Grade.fillna(2.0)\n",
    "\n",
    "print(data.City_Code_Patient.mode())\n",
    "data.City_Code_Patient = data.City_Code_Patient.fillna(8.0)"
   ]
  },
  {
   "cell_type": "code",
   "execution_count": 13,
   "metadata": {},
   "outputs": [
    {
     "name": "stdout",
     "output_type": "stream",
     "text": [
      "case_id                              0\n",
      "Hospital_code                        0\n",
      "Available_Extra_Rooms_in_Hospital    0\n",
      "Ward_Type                            0\n",
      "Bed_Grade                            0\n",
      "patientid                            0\n",
      "City_Code_Patient                    0\n",
      "Visitors_with_Patient                0\n",
      "Age                                  0\n",
      "Admission_Deposit                    0\n",
      "dtype: int64\n"
     ]
    },
    {
     "data": {
      "text/plain": [
       "(455495, 10)"
      ]
     },
     "execution_count": 13,
     "metadata": {},
     "output_type": "execute_result"
    }
   ],
   "source": [
    "print(data.isnull().sum())\n",
    "data.shape"
   ]
  },
  {
   "cell_type": "code",
   "execution_count": 14,
   "metadata": {},
   "outputs": [
    {
     "data": {
      "text/plain": [
       "case_id                                int64\n",
       "Hospital_code                          int64\n",
       "Available_Extra_Rooms_in_Hospital      int64\n",
       "Ward_Type                             object\n",
       "Bed_Grade                            float64\n",
       "patientid                              int64\n",
       "City_Code_Patient                    float64\n",
       "Visitors_with_Patient                  int64\n",
       "Age                                   object\n",
       "Admission_Deposit                    float64\n",
       "dtype: object"
      ]
     },
     "execution_count": 14,
     "metadata": {},
     "output_type": "execute_result"
    }
   ],
   "source": [
    "data.dtypes"
   ]
  },
  {
   "cell_type": "code",
   "execution_count": 15,
   "metadata": {},
   "outputs": [
    {
     "name": "stdout",
     "output_type": "stream",
     "text": [
      "(455495, 10)\n"
     ]
    },
    {
     "data": {
      "text/html": [
       "<div>\n",
       "<style scoped>\n",
       "    .dataframe tbody tr th:only-of-type {\n",
       "        vertical-align: middle;\n",
       "    }\n",
       "\n",
       "    .dataframe tbody tr th {\n",
       "        vertical-align: top;\n",
       "    }\n",
       "\n",
       "    .dataframe thead th {\n",
       "        text-align: right;\n",
       "    }\n",
       "</style>\n",
       "<table border=\"1\" class=\"dataframe\">\n",
       "  <thead>\n",
       "    <tr style=\"text-align: right;\">\n",
       "      <th></th>\n",
       "      <th>case_id</th>\n",
       "      <th>Hospital_code</th>\n",
       "      <th>Available_Extra_Rooms_in_Hospital</th>\n",
       "      <th>Ward_Type</th>\n",
       "      <th>Bed_Grade</th>\n",
       "      <th>patientid</th>\n",
       "      <th>City_Code_Patient</th>\n",
       "      <th>Visitors_with_Patient</th>\n",
       "      <th>Age</th>\n",
       "      <th>Admission_Deposit</th>\n",
       "    </tr>\n",
       "  </thead>\n",
       "  <tbody>\n",
       "    <tr>\n",
       "      <th>0</th>\n",
       "      <td>1</td>\n",
       "      <td>8</td>\n",
       "      <td>3</td>\n",
       "      <td>R</td>\n",
       "      <td>2.0</td>\n",
       "      <td>31397</td>\n",
       "      <td>7.0</td>\n",
       "      <td>2</td>\n",
       "      <td>51-60</td>\n",
       "      <td>4911.0</td>\n",
       "    </tr>\n",
       "    <tr>\n",
       "      <th>1</th>\n",
       "      <td>2</td>\n",
       "      <td>2</td>\n",
       "      <td>2</td>\n",
       "      <td>S</td>\n",
       "      <td>2.0</td>\n",
       "      <td>31397</td>\n",
       "      <td>7.0</td>\n",
       "      <td>2</td>\n",
       "      <td>51-60</td>\n",
       "      <td>5954.0</td>\n",
       "    </tr>\n",
       "    <tr>\n",
       "      <th>2</th>\n",
       "      <td>3</td>\n",
       "      <td>10</td>\n",
       "      <td>2</td>\n",
       "      <td>S</td>\n",
       "      <td>2.0</td>\n",
       "      <td>31397</td>\n",
       "      <td>7.0</td>\n",
       "      <td>2</td>\n",
       "      <td>51-60</td>\n",
       "      <td>4745.0</td>\n",
       "    </tr>\n",
       "  </tbody>\n",
       "</table>\n",
       "</div>"
      ],
      "text/plain": [
       "   case_id  Hospital_code  Available_Extra_Rooms_in_Hospital Ward_Type  \\\n",
       "0        1              8                                  3         R   \n",
       "1        2              2                                  2         S   \n",
       "2        3             10                                  2         S   \n",
       "\n",
       "   Bed_Grade  patientid  City_Code_Patient  Visitors_with_Patient    Age  \\\n",
       "0        2.0      31397                7.0                      2  51-60   \n",
       "1        2.0      31397                7.0                      2  51-60   \n",
       "2        2.0      31397                7.0                      2  51-60   \n",
       "\n",
       "   Admission_Deposit  \n",
       "0             4911.0  \n",
       "1             5954.0  \n",
       "2             4745.0  "
      ]
     },
     "execution_count": 15,
     "metadata": {},
     "output_type": "execute_result"
    }
   ],
   "source": [
    "print(data.shape)\n",
    "data.head(3)"
   ]
  },
  {
   "cell_type": "code",
   "execution_count": 16,
   "metadata": {},
   "outputs": [
    {
     "name": "stdout",
     "output_type": "stream",
     "text": [
      "(455495, 10)\n"
     ]
    },
    {
     "data": {
      "text/html": [
       "<div>\n",
       "<style scoped>\n",
       "    .dataframe tbody tr th:only-of-type {\n",
       "        vertical-align: middle;\n",
       "    }\n",
       "\n",
       "    .dataframe tbody tr th {\n",
       "        vertical-align: top;\n",
       "    }\n",
       "\n",
       "    .dataframe thead th {\n",
       "        text-align: right;\n",
       "    }\n",
       "</style>\n",
       "<table border=\"1\" class=\"dataframe\">\n",
       "  <thead>\n",
       "    <tr style=\"text-align: right;\">\n",
       "      <th></th>\n",
       "      <th>case_id</th>\n",
       "      <th>Hospital_code</th>\n",
       "      <th>Available_Extra_Rooms_in_Hospital</th>\n",
       "      <th>Ward_Type</th>\n",
       "      <th>Bed_Grade</th>\n",
       "      <th>patientid</th>\n",
       "      <th>City_Code_Patient</th>\n",
       "      <th>Visitors_with_Patient</th>\n",
       "      <th>Age</th>\n",
       "      <th>Admission_Deposit</th>\n",
       "    </tr>\n",
       "  </thead>\n",
       "  <tbody>\n",
       "    <tr>\n",
       "      <th>0</th>\n",
       "      <td>1</td>\n",
       "      <td>8</td>\n",
       "      <td>3</td>\n",
       "      <td>R</td>\n",
       "      <td>2.0</td>\n",
       "      <td>31397</td>\n",
       "      <td>7.0</td>\n",
       "      <td>2</td>\n",
       "      <td>51-60</td>\n",
       "      <td>4911.0</td>\n",
       "    </tr>\n",
       "  </tbody>\n",
       "</table>\n",
       "</div>"
      ],
      "text/plain": [
       "   case_id  Hospital_code  Available_Extra_Rooms_in_Hospital Ward_Type  \\\n",
       "0        1              8                                  3         R   \n",
       "\n",
       "   Bed_Grade  patientid  City_Code_Patient  Visitors_with_Patient    Age  \\\n",
       "0        2.0      31397                7.0                      2  51-60   \n",
       "\n",
       "   Admission_Deposit  \n",
       "0             4911.0  "
      ]
     },
     "execution_count": 16,
     "metadata": {},
     "output_type": "execute_result"
    }
   ],
   "source": [
    "print(data.shape)\n",
    "data.head(1)"
   ]
  },
  {
   "cell_type": "code",
   "execution_count": 17,
   "metadata": {},
   "outputs": [],
   "source": [
    "data['Ward_Type']= label_encoder.fit_transform(data['Ward_Type']) \n",
    "data['Age']= label_encoder.fit_transform(data['Age'])"
   ]
  },
  {
   "cell_type": "code",
   "execution_count": 18,
   "metadata": {},
   "outputs": [
    {
     "name": "stdout",
     "output_type": "stream",
     "text": [
      "(455495, 10)\n"
     ]
    },
    {
     "data": {
      "text/html": [
       "<div>\n",
       "<style scoped>\n",
       "    .dataframe tbody tr th:only-of-type {\n",
       "        vertical-align: middle;\n",
       "    }\n",
       "\n",
       "    .dataframe tbody tr th {\n",
       "        vertical-align: top;\n",
       "    }\n",
       "\n",
       "    .dataframe thead th {\n",
       "        text-align: right;\n",
       "    }\n",
       "</style>\n",
       "<table border=\"1\" class=\"dataframe\">\n",
       "  <thead>\n",
       "    <tr style=\"text-align: right;\">\n",
       "      <th></th>\n",
       "      <th>case_id</th>\n",
       "      <th>Hospital_code</th>\n",
       "      <th>Available_Extra_Rooms_in_Hospital</th>\n",
       "      <th>Ward_Type</th>\n",
       "      <th>Bed_Grade</th>\n",
       "      <th>patientid</th>\n",
       "      <th>City_Code_Patient</th>\n",
       "      <th>Visitors_with_Patient</th>\n",
       "      <th>Age</th>\n",
       "      <th>Admission_Deposit</th>\n",
       "    </tr>\n",
       "  </thead>\n",
       "  <tbody>\n",
       "    <tr>\n",
       "      <th>0</th>\n",
       "      <td>1</td>\n",
       "      <td>8</td>\n",
       "      <td>3</td>\n",
       "      <td>2</td>\n",
       "      <td>2.0</td>\n",
       "      <td>31397</td>\n",
       "      <td>7.0</td>\n",
       "      <td>2</td>\n",
       "      <td>5</td>\n",
       "      <td>4911.0</td>\n",
       "    </tr>\n",
       "    <tr>\n",
       "      <th>1</th>\n",
       "      <td>2</td>\n",
       "      <td>2</td>\n",
       "      <td>2</td>\n",
       "      <td>3</td>\n",
       "      <td>2.0</td>\n",
       "      <td>31397</td>\n",
       "      <td>7.0</td>\n",
       "      <td>2</td>\n",
       "      <td>5</td>\n",
       "      <td>5954.0</td>\n",
       "    </tr>\n",
       "    <tr>\n",
       "      <th>2</th>\n",
       "      <td>3</td>\n",
       "      <td>10</td>\n",
       "      <td>2</td>\n",
       "      <td>3</td>\n",
       "      <td>2.0</td>\n",
       "      <td>31397</td>\n",
       "      <td>7.0</td>\n",
       "      <td>2</td>\n",
       "      <td>5</td>\n",
       "      <td>4745.0</td>\n",
       "    </tr>\n",
       "  </tbody>\n",
       "</table>\n",
       "</div>"
      ],
      "text/plain": [
       "   case_id  Hospital_code  Available_Extra_Rooms_in_Hospital  Ward_Type  \\\n",
       "0        1              8                                  3          2   \n",
       "1        2              2                                  2          3   \n",
       "2        3             10                                  2          3   \n",
       "\n",
       "   Bed_Grade  patientid  City_Code_Patient  Visitors_with_Patient  Age  \\\n",
       "0        2.0      31397                7.0                      2    5   \n",
       "1        2.0      31397                7.0                      2    5   \n",
       "2        2.0      31397                7.0                      2    5   \n",
       "\n",
       "   Admission_Deposit  \n",
       "0             4911.0  \n",
       "1             5954.0  \n",
       "2             4745.0  "
      ]
     },
     "execution_count": 18,
     "metadata": {},
     "output_type": "execute_result"
    }
   ],
   "source": [
    "print(data.shape)\n",
    "data.head(3)"
   ]
  },
  {
   "cell_type": "code",
   "execution_count": 19,
   "metadata": {},
   "outputs": [
    {
     "data": {
      "text/html": [
       "<div>\n",
       "<style scoped>\n",
       "    .dataframe tbody tr th:only-of-type {\n",
       "        vertical-align: middle;\n",
       "    }\n",
       "\n",
       "    .dataframe tbody tr th {\n",
       "        vertical-align: top;\n",
       "    }\n",
       "\n",
       "    .dataframe thead th {\n",
       "        text-align: right;\n",
       "    }\n",
       "</style>\n",
       "<table border=\"1\" class=\"dataframe\">\n",
       "  <thead>\n",
       "    <tr style=\"text-align: right;\">\n",
       "      <th></th>\n",
       "      <th>case_id</th>\n",
       "      <th>Hospital_code</th>\n",
       "      <th>Available_Extra_Rooms_in_Hospital</th>\n",
       "      <th>Ward_Type</th>\n",
       "      <th>Bed_Grade</th>\n",
       "      <th>patientid</th>\n",
       "      <th>City_Code_Patient</th>\n",
       "      <th>Visitors_with_Patient</th>\n",
       "      <th>Age</th>\n",
       "      <th>Admission_Deposit</th>\n",
       "    </tr>\n",
       "  </thead>\n",
       "  <tbody>\n",
       "    <tr>\n",
       "      <th>count</th>\n",
       "      <td>455495.00000</td>\n",
       "      <td>455495.000000</td>\n",
       "      <td>455495.000000</td>\n",
       "      <td>455495.000000</td>\n",
       "      <td>455495.000000</td>\n",
       "      <td>455495.000000</td>\n",
       "      <td>455495.000000</td>\n",
       "      <td>455495.000000</td>\n",
       "      <td>455495.000000</td>\n",
       "      <td>455495.000000</td>\n",
       "    </tr>\n",
       "    <tr>\n",
       "      <th>mean</th>\n",
       "      <td>227748.00000</td>\n",
       "      <td>18.326335</td>\n",
       "      <td>3.196140</td>\n",
       "      <td>1.888087</td>\n",
       "      <td>2.628215</td>\n",
       "      <td>65786.793563</td>\n",
       "      <td>7.260517</td>\n",
       "      <td>3.284229</td>\n",
       "      <td>4.126757</td>\n",
       "      <td>4877.434022</td>\n",
       "    </tr>\n",
       "    <tr>\n",
       "      <th>std</th>\n",
       "      <td>131490.22477</td>\n",
       "      <td>8.634036</td>\n",
       "      <td>1.166994</td>\n",
       "      <td>0.804688</td>\n",
       "      <td>0.871929</td>\n",
       "      <td>37968.830850</td>\n",
       "      <td>4.724731</td>\n",
       "      <td>1.768044</td>\n",
       "      <td>1.889698</td>\n",
       "      <td>1084.982089</td>\n",
       "    </tr>\n",
       "    <tr>\n",
       "      <th>min</th>\n",
       "      <td>1.00000</td>\n",
       "      <td>1.000000</td>\n",
       "      <td>0.000000</td>\n",
       "      <td>0.000000</td>\n",
       "      <td>1.000000</td>\n",
       "      <td>1.000000</td>\n",
       "      <td>1.000000</td>\n",
       "      <td>0.000000</td>\n",
       "      <td>0.000000</td>\n",
       "      <td>1800.000000</td>\n",
       "    </tr>\n",
       "    <tr>\n",
       "      <th>25%</th>\n",
       "      <td>113874.50000</td>\n",
       "      <td>11.000000</td>\n",
       "      <td>2.000000</td>\n",
       "      <td>1.000000</td>\n",
       "      <td>2.000000</td>\n",
       "      <td>32874.000000</td>\n",
       "      <td>4.000000</td>\n",
       "      <td>2.000000</td>\n",
       "      <td>3.000000</td>\n",
       "      <td>4184.000000</td>\n",
       "    </tr>\n",
       "    <tr>\n",
       "      <th>50%</th>\n",
       "      <td>227748.00000</td>\n",
       "      <td>19.000000</td>\n",
       "      <td>3.000000</td>\n",
       "      <td>2.000000</td>\n",
       "      <td>3.000000</td>\n",
       "      <td>65735.000000</td>\n",
       "      <td>8.000000</td>\n",
       "      <td>3.000000</td>\n",
       "      <td>4.000000</td>\n",
       "      <td>4738.000000</td>\n",
       "    </tr>\n",
       "    <tr>\n",
       "      <th>75%</th>\n",
       "      <td>341621.50000</td>\n",
       "      <td>26.000000</td>\n",
       "      <td>4.000000</td>\n",
       "      <td>2.000000</td>\n",
       "      <td>3.000000</td>\n",
       "      <td>98576.500000</td>\n",
       "      <td>8.000000</td>\n",
       "      <td>4.000000</td>\n",
       "      <td>5.000000</td>\n",
       "      <td>5405.000000</td>\n",
       "    </tr>\n",
       "    <tr>\n",
       "      <th>max</th>\n",
       "      <td>455495.00000</td>\n",
       "      <td>32.000000</td>\n",
       "      <td>24.000000</td>\n",
       "      <td>5.000000</td>\n",
       "      <td>4.000000</td>\n",
       "      <td>131624.000000</td>\n",
       "      <td>38.000000</td>\n",
       "      <td>32.000000</td>\n",
       "      <td>9.000000</td>\n",
       "      <td>11920.000000</td>\n",
       "    </tr>\n",
       "  </tbody>\n",
       "</table>\n",
       "</div>"
      ],
      "text/plain": [
       "            case_id  Hospital_code  Available_Extra_Rooms_in_Hospital  \\\n",
       "count  455495.00000  455495.000000                      455495.000000   \n",
       "mean   227748.00000      18.326335                           3.196140   \n",
       "std    131490.22477       8.634036                           1.166994   \n",
       "min         1.00000       1.000000                           0.000000   \n",
       "25%    113874.50000      11.000000                           2.000000   \n",
       "50%    227748.00000      19.000000                           3.000000   \n",
       "75%    341621.50000      26.000000                           4.000000   \n",
       "max    455495.00000      32.000000                          24.000000   \n",
       "\n",
       "           Ward_Type      Bed_Grade      patientid  City_Code_Patient  \\\n",
       "count  455495.000000  455495.000000  455495.000000      455495.000000   \n",
       "mean        1.888087       2.628215   65786.793563           7.260517   \n",
       "std         0.804688       0.871929   37968.830850           4.724731   \n",
       "min         0.000000       1.000000       1.000000           1.000000   \n",
       "25%         1.000000       2.000000   32874.000000           4.000000   \n",
       "50%         2.000000       3.000000   65735.000000           8.000000   \n",
       "75%         2.000000       3.000000   98576.500000           8.000000   \n",
       "max         5.000000       4.000000  131624.000000          38.000000   \n",
       "\n",
       "       Visitors_with_Patient            Age  Admission_Deposit  \n",
       "count          455495.000000  455495.000000      455495.000000  \n",
       "mean                3.284229       4.126757        4877.434022  \n",
       "std                 1.768044       1.889698        1084.982089  \n",
       "min                 0.000000       0.000000        1800.000000  \n",
       "25%                 2.000000       3.000000        4184.000000  \n",
       "50%                 3.000000       4.000000        4738.000000  \n",
       "75%                 4.000000       5.000000        5405.000000  \n",
       "max                32.000000       9.000000       11920.000000  "
      ]
     },
     "execution_count": 19,
     "metadata": {},
     "output_type": "execute_result"
    }
   ],
   "source": [
    "data.describe()"
   ]
  },
  {
   "cell_type": "code",
   "execution_count": 20,
   "metadata": {},
   "outputs": [
    {
     "data": {
      "text/plain": [
       "(455495, 10)"
      ]
     },
     "execution_count": 20,
     "metadata": {},
     "output_type": "execute_result"
    }
   ],
   "source": [
    "data.shape"
   ]
  },
  {
   "cell_type": "code",
   "execution_count": 21,
   "metadata": {},
   "outputs": [
    {
     "name": "stdout",
     "output_type": "stream",
     "text": [
      "<class 'pandas.core.frame.DataFrame'>\n",
      "Int64Index: 455495 entries, 0 to 137056\n",
      "Data columns (total 10 columns):\n",
      "case_id                              455495 non-null int64\n",
      "Hospital_code                        455495 non-null int64\n",
      "Available_Extra_Rooms_in_Hospital    455495 non-null int64\n",
      "Ward_Type                            455495 non-null int32\n",
      "Bed_Grade                            455495 non-null float64\n",
      "patientid                            455495 non-null int64\n",
      "City_Code_Patient                    455495 non-null float64\n",
      "Visitors_with_Patient                455495 non-null int64\n",
      "Age                                  455495 non-null int32\n",
      "Admission_Deposit                    455495 non-null float64\n",
      "dtypes: float64(3), int32(2), int64(5)\n",
      "memory usage: 34.8 MB\n"
     ]
    }
   ],
   "source": [
    "#data = data.drop(\"Hospital_region_code\", axis=1)\n",
    "data.info()"
   ]
  },
  {
   "cell_type": "markdown",
   "metadata": {},
   "source": [
    "### preprocessing of df (train_data) ends here"
   ]
  },
  {
   "cell_type": "code",
   "execution_count": 22,
   "metadata": {},
   "outputs": [
    {
     "data": {
      "text/html": [
       "<div>\n",
       "<style scoped>\n",
       "    .dataframe tbody tr th:only-of-type {\n",
       "        vertical-align: middle;\n",
       "    }\n",
       "\n",
       "    .dataframe tbody tr th {\n",
       "        vertical-align: top;\n",
       "    }\n",
       "\n",
       "    .dataframe thead th {\n",
       "        text-align: right;\n",
       "    }\n",
       "</style>\n",
       "<table border=\"1\" class=\"dataframe\">\n",
       "  <thead>\n",
       "    <tr style=\"text-align: right;\">\n",
       "      <th></th>\n",
       "      <th>case_id</th>\n",
       "      <th>Hospital_code</th>\n",
       "      <th>Available_Extra_Rooms_in_Hospital</th>\n",
       "      <th>Ward_Type</th>\n",
       "      <th>Bed_Grade</th>\n",
       "      <th>patientid</th>\n",
       "      <th>City_Code_Patient</th>\n",
       "      <th>Visitors_with_Patient</th>\n",
       "      <th>Age</th>\n",
       "      <th>Admission_Deposit</th>\n",
       "    </tr>\n",
       "  </thead>\n",
       "  <tbody>\n",
       "    <tr>\n",
       "      <th>0</th>\n",
       "      <td>1</td>\n",
       "      <td>8</td>\n",
       "      <td>3</td>\n",
       "      <td>2</td>\n",
       "      <td>2.0</td>\n",
       "      <td>31397</td>\n",
       "      <td>7.0</td>\n",
       "      <td>2</td>\n",
       "      <td>5</td>\n",
       "      <td>4911.0</td>\n",
       "    </tr>\n",
       "  </tbody>\n",
       "</table>\n",
       "</div>"
      ],
      "text/plain": [
       "   case_id  Hospital_code  Available_Extra_Rooms_in_Hospital  Ward_Type  \\\n",
       "0        1              8                                  3          2   \n",
       "\n",
       "   Bed_Grade  patientid  City_Code_Patient  Visitors_with_Patient  Age  \\\n",
       "0        2.0      31397                7.0                      2    5   \n",
       "\n",
       "   Admission_Deposit  \n",
       "0             4911.0  "
      ]
     },
     "execution_count": 22,
     "metadata": {},
     "output_type": "execute_result"
    }
   ],
   "source": [
    "data_train = data.iloc[:318438]\n",
    "data_test = data.iloc[318438:]\n",
    "data.head(1)"
   ]
  },
  {
   "cell_type": "code",
   "execution_count": 23,
   "metadata": {},
   "outputs": [],
   "source": [
    "X = data_train.values\n",
    "test = data_test.values\n",
    "y = stay_train.values"
   ]
  },
  {
   "cell_type": "code",
   "execution_count": 24,
   "metadata": {},
   "outputs": [
    {
     "data": {
      "text/plain": [
       "RandomForestClassifier(n_estimators=50)"
      ]
     },
     "execution_count": 24,
     "metadata": {},
     "output_type": "execute_result"
    }
   ],
   "source": [
    "# Instantiate model and fit to data\n",
    "clf = RandomForestClassifier(n_estimators = 50)\n",
    "clf.fit(X, y)"
   ]
  },
  {
   "cell_type": "code",
   "execution_count": 25,
   "metadata": {},
   "outputs": [],
   "source": [
    "import pickle\n",
    "model = pickle.dumps(clf)\n",
    "#import pickle\n",
    "#model = pickle.dumps(classifier)\n"
   ]
  },
  {
   "cell_type": "code",
   "execution_count": 28,
   "metadata": {},
   "outputs": [],
   "source": [
    "import tkinter as tk\n",
    "import pickle\n",
    "import pandas as pd\n",
    "import matplotlib.pyplot as plt\n",
    "from matplotlib.backends.backend_tkagg import FigureCanvasTkAgg\n",
    "#\n",
    "# tkinter gui\n",
    "root = tk.Tk()\n",
    "root.title(\"AIS SOLUTIONS PVT LTD\")\n",
    "canvas1 = tk.Canvas(root, width=800, height=600)\n",
    "canvas1.pack()\n",
    "\n",
    "#labels and input boxes\n",
    "label0 = tk.Label(root,text=\"PATIENT LENGTH OF STAY PREDICTION\")#.place(x=150,y=30)\n",
    "canvas1.create_window(400,30,window=label0)\n",
    "label0.config(font=(\"Times\",25))\n",
    "\n",
    "# # 1\n",
    "label1 = tk.Label(root,text=\"Case ID\").place(x=30,y=100)\n",
    "canvas1.create_window(30,100,window=label1)\n",
    "#label1.config(font=(\"Times\",18))\n",
    "#\n",
    "entry1 = tk.Entry(root)\n",
    "canvas1.create_window(360,100,window=entry1)\n",
    "entry1.config(font=(\"Times\",18))\n",
    "#\n",
    "# # 2\n",
    "label2 = tk.Label(root,text=\"Hospital Code\").place(x=30,y=130)\n",
    "canvas1.create_window(30,130,window=label2)\n",
    "#label2.config(font=(\"Times\",18))\n",
    "\n",
    "entry2 = tk.Entry(root)\n",
    "canvas1.create_window(360,130,window=entry2)\n",
    "entry2.config(font=(\"Times\",18))\n",
    "#\n",
    "label3 = tk.Label(root,text=\"Available Extra Rooms in Hospital\").place(x=30,y=160)\n",
    "canvas1.create_window(30,160,window=label3)\n",
    "#label3.config(font=(\"Times\",18))\n",
    "\n",
    "entry3 = tk.Entry(root)\n",
    "canvas1.create_window(360,160,window=entry3)\n",
    "entry3.config(font=(\"Times\",18))\n",
    "\n",
    "# # 7\n",
    "label7 = tk.Label(root,text=\"Ward Type\").place(x=30,y=190)\n",
    "canvas1.create_window(30,190,window=label7)\n",
    "#label7.config(font=(\"Times\",18))\n",
    "\n",
    "entry7 = tk.Entry(root)\n",
    "canvas1.create_window(360,190,window=entry7)\n",
    "entry7.config(font=(\"Times\",18))\n",
    "\n",
    "label7_0 = tk.Label(root,text=\"Enter 0 for P, 1 for Q, 2 for R, 3 for S, 4 for T, 5 for U\" ).place(x=30,y=220)\n",
    "canvas1.create_window(30,220,window=label7_0)\n",
    "\n",
    "# # 9\n",
    "label9 = tk.Label(root,text=\"Bed Grade\").place(x=30,y=270)\n",
    "canvas1.create_window(30,270,window=label9)\n",
    "#label9.config(font=(\"Times\",18))\n",
    "\n",
    "entry9 = tk.Entry(root)\n",
    "canvas1.create_window(360,270,window=entry9)\n",
    "entry9.config(font=(\"Times\",18))\n",
    "#\n",
    "# 10\n",
    "label10 = tk.Label(root,text=\"Patient ID\").place(x=30,y=300)\n",
    "canvas1.create_window(30,300,window=label10)\n",
    "#label10.config(font=(\"Times\",18))\n",
    "\n",
    "entry10 = tk.Entry(root)\n",
    "canvas1.create_window(360,300,window=entry10)\n",
    "entry10.config(font=(\"Times\",18))\n",
    "# 10\n",
    "\n",
    "label11 = tk.Label(root,text=\"City Code Patient\").place(x=30,y=330)\n",
    "canvas1.create_window(30,330,window=label11)\n",
    "#label11.config(font=(\"Times\",18))\n",
    "\n",
    "entry11 = tk.Entry(root)\n",
    "canvas1.create_window(360,330,window=entry11)\n",
    "entry11.config(font=(\"Times\",18))\n",
    "\n",
    "# 13\n",
    "label14 = tk.Label(root,text=\"Visitors with Patient\").place(x=30,y=360)\n",
    "canvas1.create_window(30,360,window=label14)\n",
    "#label14.config(font=(\"Times\",18))\n",
    "\n",
    "entry14 = tk.Entry(root)\n",
    "canvas1.create_window(360,360,window=entry14)\n",
    "entry14.config(font=(\"Times\",18))\n",
    "\n",
    "# 14\n",
    "label15 = tk.Label(root,text=\"Age\").place(x=30,y=390)\n",
    "canvas1.create_window(30,390,window=label15)\n",
    "#label15.config(font=(\"Times\",18))\n",
    "\n",
    "entry15 = tk.Entry(root)\n",
    "canvas1.create_window(360,390,window=entry15)\n",
    "entry15.config(font=(\"Times\",18))\n",
    "\n",
    "label15_0 = tk.Label(root,text=\"Enter 0 for (0-10), 1 for (11-20), 2 for (21-30), 3 for (31-40), 4 for (41-50), 5 for (51-60), 6 for (61-70), 7 for (71-80), 8 for (81-90), 9 for (91-100)\").place(x=30,y=420)\n",
    "canvas1.create_window(30,420,window=label15_0)\n",
    "\n",
    "# 15\n",
    "label16 = tk.Label(root,text=\"Admission Deposit\").place(x=30,y=470)\n",
    "canvas1.create_window(30,470,window=label16)\n",
    "\n",
    "entry16 = tk.Entry(root)\n",
    "canvas1.create_window(360,470,window=entry16)\n",
    "entry16.config(font=(\"Times\",18))\n",
    "\n",
    "def values():\n",
    "    global case_id\n",
    "    case_id = float(entry1.get())\n",
    "    global Hospital_code\n",
    "    Hospital_code = float(entry2.get())\n",
    "    \n",
    "    global Available_Extra_Rooms_in_Hospital\n",
    "    Available_Extra_Rooms_in_Hospital  = float(entry3.get())\n",
    "    \n",
    "    global Ward_Type\n",
    "    Ward_Type  = float(entry7.get())\n",
    "    \n",
    "    global Bed_Grade\n",
    "    Bed_Grade  = float(entry9.get())\n",
    "    global patientid\n",
    "    patientid = float(entry10.get())\n",
    "    global City_Code_Patient\n",
    "    City_Code_Patient = float(entry11.get())\n",
    "    \n",
    "    global Visitors_with_Patient\n",
    "    Visitors_with_Patient  = float(entry14.get())\n",
    "    global Age\n",
    "    Age  = float(entry15.get())\n",
    "    global Admission_Deposit\n",
    "    Admission_Deposit  = float(entry16.get())\n",
    "    \n",
    "    test_df = pd.DataFrame([(case_id, Hospital_code, Available_Extra_Rooms_in_Hospital, Ward_Type, Bed_Grade, patientid, City_Code_Patient, Visitors_with_Patient, Age, Admission_Deposit)],\n",
    "                          columns = (\"case_id\", \"Hospital_code\", \"Available_Extra_Rooms_in_Hospital\", \"Ward_Type\", \"Bed_Grade\", \"patientid\", \"City_Code_Patient\", \"Visitors_with_Patient\", \"Age\", \"Admission_Deposit\"))\n",
    "    \n",
    "    #loaded_model = pickle.loads(model)\n",
    "    #res = loaded_model.predict(test_df)\n",
    "    \n",
    "    \n",
    "    res = clf.predict(test_df)\n",
    "    if res == 0:\n",
    "        res=\"0-10 days\"\n",
    "    elif res == 1:\n",
    "        res=\"11-20 days\"\n",
    "    elif res == 2:\n",
    "        res=\"21-30 days\"\n",
    "    elif res == 3:\n",
    "        res=\"31-40 days\"\n",
    "    elif res == 4:\n",
    "        res=\"41-50 days\"\n",
    "    elif res == 5:\n",
    "        res=\"51-60 days\"\n",
    "    elif res == 6:\n",
    "        res=\"61-70 days\"\n",
    "    elif res == 7:\n",
    "        res=\"71-80 days\"\n",
    "    elif res == 8:\n",
    "        res=\"81-90 days\"\n",
    "    elif res == 9:\n",
    "        res=\"91-100 days\"\n",
    "    else :\n",
    "        res=\"more than 100 days\"\n",
    "    prediction_res = (\"Result :\", res)\n",
    "    label_prediction = tk.Label(root, text=prediction_res).place(x=260, y=550)\n",
    "    canvas1.create_window(260,570,window=label_prediction)\n",
    "    #label_prediction.config(font=(\"Times\",18))\n",
    "\n",
    "button1 = tk.Button(root, text=\"Predict Length Of Patient Stay\", command=values)\n",
    "canvas1.create_window(360,520,window=button1)\n",
    "button1.config(font=(\"Times\",18))\n",
    "root.resizable(0,0)\n",
    "root.mainloop()\n"
   ]
  },
  {
   "cell_type": "code",
   "execution_count": null,
   "metadata": {},
   "outputs": [],
   "source": []
  },
  {
   "cell_type": "code",
   "execution_count": null,
   "metadata": {},
   "outputs": [],
   "source": []
  }
 ],
 "metadata": {
  "kernelspec": {
   "display_name": "Python 3",
   "language": "python",
   "name": "python3"
  },
  "language_info": {
   "codemirror_mode": {
    "name": "ipython",
    "version": 3
   },
   "file_extension": ".py",
   "mimetype": "text/x-python",
   "name": "python",
   "nbconvert_exporter": "python",
   "pygments_lexer": "ipython3",
   "version": "3.7.2"
  }
 },
 "nbformat": 4,
 "nbformat_minor": 2
}
