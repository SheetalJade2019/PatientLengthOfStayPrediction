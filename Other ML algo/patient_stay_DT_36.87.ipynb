{
 "cells": [
  {
   "cell_type": "code",
   "execution_count": 2,
   "metadata": {},
   "outputs": [],
   "source": [
    "# import lib\n",
    "import pandas as pd\n",
    "import numpy as np\n",
    "import seaborn as sns\n",
    "from matplotlib import pyplot as plt \n",
    "\n",
    "from sklearn import preprocessing\n",
    "#from sklearn.preprocessing import Imputer  \n",
    "from sklearn.model_selection import train_test_split\n",
    "from sklearn.preprocessing import LabelEncoder, RobustScaler, StandardScaler\n",
    "\n",
    "\n",
    "from sklearn import tree\n",
    "from sklearn.model_selection import train_test_split\n",
    "from sklearn.linear_model import LogisticRegression\n",
    "from sklearn.model_selection import GridSearchCV"
   ]
  },
  {
   "cell_type": "code",
   "execution_count": 3,
   "metadata": {},
   "outputs": [],
   "source": [
    "# import ddata\n",
    "df_train = pd.read_csv(\"E:/ML/AISS/patient_stay_2_1310/train_data.csv\",index_col='patientid')\n",
    "df_test = pd.read_csv(\"E:/ML/AISS/patient_stay_2_1310/test_data.csv\",index_col='patientid')\n",
    "#df.isnull().sum()"
   ]
  },
  {
   "cell_type": "code",
   "execution_count": 4,
   "metadata": {},
   "outputs": [
    {
     "name": "stdout",
     "output_type": "stream",
     "text": [
      "(318438, 17)\n"
     ]
    }
   ],
   "source": [
    "print(df_train.shape)\n",
    "#df_train.head(3)"
   ]
  },
  {
   "cell_type": "code",
   "execution_count": 5,
   "metadata": {},
   "outputs": [
    {
     "name": "stdout",
     "output_type": "stream",
     "text": [
      "(137057, 16)\n"
     ]
    }
   ],
   "source": [
    "print(df_test.shape)\n",
    "#df_test.head(3)"
   ]
  },
  {
   "cell_type": "code",
   "execution_count": 6,
   "metadata": {},
   "outputs": [],
   "source": [
    "#Survived_train == Stay_train\n",
    "stay_train = df_train.Stay\n",
    "#print(stay_train)"
   ]
  },
  {
   "cell_type": "code",
   "execution_count": 7,
   "metadata": {},
   "outputs": [],
   "source": [
    "X = df_train.drop(\"Stay\", axis=1)\n",
    "y = df_test\n",
    "data = pd.concat([X,y])"
   ]
  },
  {
   "cell_type": "code",
   "execution_count": 8,
   "metadata": {},
   "outputs": [
    {
     "data": {
      "text/html": [
       "<div>\n",
       "<style scoped>\n",
       "    .dataframe tbody tr th:only-of-type {\n",
       "        vertical-align: middle;\n",
       "    }\n",
       "\n",
       "    .dataframe tbody tr th {\n",
       "        vertical-align: top;\n",
       "    }\n",
       "\n",
       "    .dataframe thead th {\n",
       "        text-align: right;\n",
       "    }\n",
       "</style>\n",
       "<table border=\"1\" class=\"dataframe\">\n",
       "  <thead>\n",
       "    <tr style=\"text-align: right;\">\n",
       "      <th></th>\n",
       "      <th>case_id</th>\n",
       "      <th>Hospital_code</th>\n",
       "      <th>Hospital_type_code</th>\n",
       "      <th>City_Code_Hospital</th>\n",
       "      <th>Hospital_region_code</th>\n",
       "      <th>Available Extra Rooms in Hospital</th>\n",
       "      <th>Department</th>\n",
       "      <th>Ward_Type</th>\n",
       "      <th>Ward_Facility_Code</th>\n",
       "      <th>Bed Grade</th>\n",
       "      <th>City_Code_Patient</th>\n",
       "      <th>Type of Admission</th>\n",
       "      <th>Severity of Illness</th>\n",
       "      <th>Visitors with Patient</th>\n",
       "      <th>Age</th>\n",
       "      <th>Admission_Deposit</th>\n",
       "    </tr>\n",
       "    <tr>\n",
       "      <th>patientid</th>\n",
       "      <th></th>\n",
       "      <th></th>\n",
       "      <th></th>\n",
       "      <th></th>\n",
       "      <th></th>\n",
       "      <th></th>\n",
       "      <th></th>\n",
       "      <th></th>\n",
       "      <th></th>\n",
       "      <th></th>\n",
       "      <th></th>\n",
       "      <th></th>\n",
       "      <th></th>\n",
       "      <th></th>\n",
       "      <th></th>\n",
       "      <th></th>\n",
       "    </tr>\n",
       "  </thead>\n",
       "  <tbody>\n",
       "    <tr>\n",
       "      <th>31397</th>\n",
       "      <td>1</td>\n",
       "      <td>8</td>\n",
       "      <td>c</td>\n",
       "      <td>3</td>\n",
       "      <td>Z</td>\n",
       "      <td>3</td>\n",
       "      <td>radiotherapy</td>\n",
       "      <td>R</td>\n",
       "      <td>F</td>\n",
       "      <td>2.0</td>\n",
       "      <td>7.0</td>\n",
       "      <td>Emergency</td>\n",
       "      <td>Extreme</td>\n",
       "      <td>2</td>\n",
       "      <td>51-60</td>\n",
       "      <td>4911.0</td>\n",
       "    </tr>\n",
       "    <tr>\n",
       "      <th>31397</th>\n",
       "      <td>2</td>\n",
       "      <td>2</td>\n",
       "      <td>c</td>\n",
       "      <td>5</td>\n",
       "      <td>Z</td>\n",
       "      <td>2</td>\n",
       "      <td>radiotherapy</td>\n",
       "      <td>S</td>\n",
       "      <td>F</td>\n",
       "      <td>2.0</td>\n",
       "      <td>7.0</td>\n",
       "      <td>Trauma</td>\n",
       "      <td>Extreme</td>\n",
       "      <td>2</td>\n",
       "      <td>51-60</td>\n",
       "      <td>5954.0</td>\n",
       "    </tr>\n",
       "    <tr>\n",
       "      <th>31397</th>\n",
       "      <td>3</td>\n",
       "      <td>10</td>\n",
       "      <td>e</td>\n",
       "      <td>1</td>\n",
       "      <td>X</td>\n",
       "      <td>2</td>\n",
       "      <td>anesthesia</td>\n",
       "      <td>S</td>\n",
       "      <td>E</td>\n",
       "      <td>2.0</td>\n",
       "      <td>7.0</td>\n",
       "      <td>Trauma</td>\n",
       "      <td>Extreme</td>\n",
       "      <td>2</td>\n",
       "      <td>51-60</td>\n",
       "      <td>4745.0</td>\n",
       "    </tr>\n",
       "    <tr>\n",
       "      <th>31397</th>\n",
       "      <td>4</td>\n",
       "      <td>26</td>\n",
       "      <td>b</td>\n",
       "      <td>2</td>\n",
       "      <td>Y</td>\n",
       "      <td>2</td>\n",
       "      <td>radiotherapy</td>\n",
       "      <td>R</td>\n",
       "      <td>D</td>\n",
       "      <td>2.0</td>\n",
       "      <td>7.0</td>\n",
       "      <td>Trauma</td>\n",
       "      <td>Extreme</td>\n",
       "      <td>2</td>\n",
       "      <td>51-60</td>\n",
       "      <td>7272.0</td>\n",
       "    </tr>\n",
       "    <tr>\n",
       "      <th>31397</th>\n",
       "      <td>5</td>\n",
       "      <td>26</td>\n",
       "      <td>b</td>\n",
       "      <td>2</td>\n",
       "      <td>Y</td>\n",
       "      <td>2</td>\n",
       "      <td>radiotherapy</td>\n",
       "      <td>S</td>\n",
       "      <td>D</td>\n",
       "      <td>2.0</td>\n",
       "      <td>7.0</td>\n",
       "      <td>Trauma</td>\n",
       "      <td>Extreme</td>\n",
       "      <td>2</td>\n",
       "      <td>51-60</td>\n",
       "      <td>5558.0</td>\n",
       "    </tr>\n",
       "  </tbody>\n",
       "</table>\n",
       "</div>"
      ],
      "text/plain": [
       "           case_id  Hospital_code Hospital_type_code  City_Code_Hospital  \\\n",
       "patientid                                                                  \n",
       "31397            1              8                  c                   3   \n",
       "31397            2              2                  c                   5   \n",
       "31397            3             10                  e                   1   \n",
       "31397            4             26                  b                   2   \n",
       "31397            5             26                  b                   2   \n",
       "\n",
       "          Hospital_region_code  Available Extra Rooms in Hospital  \\\n",
       "patientid                                                           \n",
       "31397                        Z                                  3   \n",
       "31397                        Z                                  2   \n",
       "31397                        X                                  2   \n",
       "31397                        Y                                  2   \n",
       "31397                        Y                                  2   \n",
       "\n",
       "             Department Ward_Type Ward_Facility_Code  Bed Grade  \\\n",
       "patientid                                                         \n",
       "31397      radiotherapy         R                  F        2.0   \n",
       "31397      radiotherapy         S                  F        2.0   \n",
       "31397        anesthesia         S                  E        2.0   \n",
       "31397      radiotherapy         R                  D        2.0   \n",
       "31397      radiotherapy         S                  D        2.0   \n",
       "\n",
       "           City_Code_Patient Type of Admission Severity of Illness  \\\n",
       "patientid                                                            \n",
       "31397                    7.0         Emergency             Extreme   \n",
       "31397                    7.0            Trauma             Extreme   \n",
       "31397                    7.0            Trauma             Extreme   \n",
       "31397                    7.0            Trauma             Extreme   \n",
       "31397                    7.0            Trauma             Extreme   \n",
       "\n",
       "           Visitors with Patient    Age  Admission_Deposit  \n",
       "patientid                                                   \n",
       "31397                          2  51-60             4911.0  \n",
       "31397                          2  51-60             5954.0  \n",
       "31397                          2  51-60             4745.0  \n",
       "31397                          2  51-60             7272.0  \n",
       "31397                          2  51-60             5558.0  "
      ]
     },
     "execution_count": 8,
     "metadata": {},
     "output_type": "execute_result"
    }
   ],
   "source": [
    "data.head()"
   ]
  },
  {
   "cell_type": "code",
   "execution_count": 9,
   "metadata": {},
   "outputs": [
    {
     "name": "stdout",
     "output_type": "stream",
     "text": [
      "(455495, 16)\n"
     ]
    }
   ],
   "source": [
    "#print(data.dtypes)\n",
    "print(data.shape)"
   ]
  },
  {
   "cell_type": "code",
   "execution_count": 10,
   "metadata": {},
   "outputs": [
    {
     "name": "stdout",
     "output_type": "stream",
     "text": [
      "(455495, 16)\n"
     ]
    }
   ],
   "source": [
    "# rename columns\n",
    "original_col = data.columns\n",
    "new_col = ['case_id','Hospital_code','Hospital_type_code','City_Code_Hospital','Hospital_region_code','Available_Extra_Rooms_in_Hospital','Department','Ward_Type','Ward_Facility_Code','Bed_Grade','City_Code_Patient','Type_of_Admission','Severity_of_Illness','Visitors_with_Patient','Age','Admission_Deposit']                                                                                                               \n",
    "data =data.rename(columns=dict(zip(original_col, \n",
    "new_col)))\n",
    "#data.head()\n",
    "print(data.shape)\n",
    "#print(data.head())"
   ]
  },
  {
   "cell_type": "code",
   "execution_count": 11,
   "metadata": {},
   "outputs": [
    {
     "name": "stdout",
     "output_type": "stream",
     "text": [
      "<class 'pandas.core.frame.DataFrame'>\n",
      "Int64Index: 455495 entries, 31397 to 126729\n",
      "Data columns (total 16 columns):\n",
      "case_id                              455495 non-null int64\n",
      "Hospital_code                        455495 non-null int64\n",
      "Hospital_type_code                   455495 non-null object\n",
      "City_Code_Hospital                   455495 non-null int64\n",
      "Hospital_region_code                 455495 non-null object\n",
      "Available_Extra_Rooms_in_Hospital    455495 non-null int64\n",
      "Department                           455495 non-null object\n",
      "Ward_Type                            455495 non-null object\n",
      "Ward_Facility_Code                   455495 non-null object\n",
      "Bed_Grade                            455347 non-null float64\n",
      "City_Code_Patient                    448806 non-null float64\n",
      "Type_of_Admission                    455495 non-null object\n",
      "Severity_of_Illness                  455495 non-null object\n",
      "Visitors_with_Patient                455495 non-null int64\n",
      "Age                                  455495 non-null object\n",
      "Admission_Deposit                    455495 non-null float64\n",
      "dtypes: float64(3), int64(5), object(8)\n",
      "memory usage: 59.1+ MB\n"
     ]
    }
   ],
   "source": [
    "data.info()"
   ]
  },
  {
   "cell_type": "code",
   "execution_count": 12,
   "metadata": {},
   "outputs": [
    {
     "data": {
      "text/plain": [
       "case_id                                 0\n",
       "Hospital_code                           0\n",
       "Hospital_type_code                      0\n",
       "City_Code_Hospital                      0\n",
       "Hospital_region_code                    0\n",
       "Available_Extra_Rooms_in_Hospital       0\n",
       "Department                              0\n",
       "Ward_Type                               0\n",
       "Ward_Facility_Code                      0\n",
       "Bed_Grade                             148\n",
       "City_Code_Patient                    6689\n",
       "Type_of_Admission                       0\n",
       "Severity_of_Illness                     0\n",
       "Visitors_with_Patient                   0\n",
       "Age                                     0\n",
       "Admission_Deposit                       0\n",
       "dtype: int64"
      ]
     },
     "execution_count": 12,
     "metadata": {},
     "output_type": "execute_result"
    }
   ],
   "source": [
    "# check missing values\n",
    "data.isnull().sum()\n",
    "#df.Hospital_code.count()"
   ]
  },
  {
   "cell_type": "code",
   "execution_count": 13,
   "metadata": {},
   "outputs": [
    {
     "name": "stdout",
     "output_type": "stream",
     "text": [
      "0    2.0\n",
      "dtype: float64\n"
     ]
    }
   ],
   "source": [
    "#mode_bed_grade = data.Bed_Grade.mode()\n",
    "#data.Bed_Grade = data.Bed_Grade.fillna(mode_bed_grade)\n",
    "\n",
    "\n",
    "mode_bed_grade = data.Bed_Grade.mode()\n",
    "data.Bed_Grade = data.Bed_Grade.fillna(2.0)\n",
    "print(data.Bed_Grade.mode())"
   ]
  },
  {
   "cell_type": "code",
   "execution_count": 14,
   "metadata": {},
   "outputs": [
    {
     "name": "stdout",
     "output_type": "stream",
     "text": [
      "0    8.0\n",
      "dtype: float64\n"
     ]
    }
   ],
   "source": [
    "mode_city_code_patient = data['City_Code_Patient'].mode()\n",
    "# data.City_Code_Patient = data.City_Code_Patient.fillna(mode_city_code_patient)\n",
    "\n",
    "print(data['City_Code_Patient'].mode())\n",
    "data.City_Code_Patient = data.City_Code_Patient.fillna(8.0)"
   ]
  },
  {
   "cell_type": "code",
   "execution_count": 15,
   "metadata": {},
   "outputs": [
    {
     "data": {
      "text/plain": [
       "case_id                              0\n",
       "Hospital_code                        0\n",
       "Hospital_type_code                   0\n",
       "City_Code_Hospital                   0\n",
       "Hospital_region_code                 0\n",
       "Available_Extra_Rooms_in_Hospital    0\n",
       "Department                           0\n",
       "Ward_Type                            0\n",
       "Ward_Facility_Code                   0\n",
       "Bed_Grade                            0\n",
       "City_Code_Patient                    0\n",
       "Type_of_Admission                    0\n",
       "Severity_of_Illness                  0\n",
       "Visitors_with_Patient                0\n",
       "Age                                  0\n",
       "Admission_Deposit                    0\n",
       "dtype: int64"
      ]
     },
     "execution_count": 15,
     "metadata": {},
     "output_type": "execute_result"
    }
   ],
   "source": [
    "#df.info()\n",
    "data.isnull().sum()"
   ]
  },
  {
   "cell_type": "markdown",
   "metadata": {},
   "source": [
    "Missing values replaced by mode values in \n",
    "\n",
    "        Bed_Grade \n",
    "        City_Code_Patient "
   ]
  },
  {
   "cell_type": "code",
   "execution_count": 16,
   "metadata": {},
   "outputs": [],
   "source": [
    "#df['Bed_Grade'] = df['Bed_Grade'].replace(df['Bed_Grade'].mode(), \"nan\")\n",
    "#df['City_Code_Patient'] = df['City_Code_Patient'].replace(df['City_Code_Patient'].mode(), \"nan\")"
   ]
  },
  {
   "cell_type": "code",
   "execution_count": 17,
   "metadata": {},
   "outputs": [
    {
     "data": {
      "text/plain": [
       "(455495, 16)"
      ]
     },
     "execution_count": 17,
     "metadata": {},
     "output_type": "execute_result"
    }
   ],
   "source": [
    "#pd.read_csv?\n",
    "#df.head()\n",
    "#df.plot?\n",
    "data.shape\n",
    "#Imputer?"
   ]
  },
  {
   "cell_type": "code",
   "execution_count": 18,
   "metadata": {},
   "outputs": [
    {
     "data": {
      "text/plain": [
       "<matplotlib.axes._subplots.AxesSubplot at 0x23bfb716a0>"
      ]
     },
     "execution_count": 18,
     "metadata": {},
     "output_type": "execute_result"
    },
    {
     "data": {
      "image/png": "[encoded data removed]",
      "text/plain": [
       "<Figure size 1080x360 with 1 Axes>"
      ]
     },
     "metadata": {
      "needs_background": "light"
     },
     "output_type": "display_data"
    }
   ],
   "source": [
    "#sns.barplot?\n",
    "fig_dims = (15, 5)\n",
    "fig, ax = plt.subplots(figsize=fig_dims)\n",
    "sns.countplot(x=\"Hospital_code\",ax=ax, data=data)"
   ]
  },
  {
   "cell_type": "code",
   "execution_count": 19,
   "metadata": {},
   "outputs": [
    {
     "data": {
      "text/plain": [
       "<matplotlib.axes._subplots.AxesSubplot at 0x23bfcb9c88>"
      ]
     },
     "execution_count": 19,
     "metadata": {},
     "output_type": "execute_result"
    },
    {
     "data": {
      "image/png": "[encoded data removed]",
      "text/plain": [
       "<Figure size 432x288 with 1 Axes>"
      ]
     },
     "metadata": {
      "needs_background": "light"
     },
     "output_type": "display_data"
    }
   ],
   "source": [
    "sns.countplot(x=\"Hospital_type_code\", data=data)"
   ]
  },
  {
   "cell_type": "code",
   "execution_count": 20,
   "metadata": {},
   "outputs": [
    {
     "data": {
      "text/plain": [
       "<matplotlib.axes._subplots.AxesSubplot at 0x23bfd3d2b0>"
      ]
     },
     "execution_count": 20,
     "metadata": {},
     "output_type": "execute_result"
    },
    {
     "data": {
      "image/png": "[encoded data removed]",
      "text/plain": [
       "<Figure size 432x288 with 1 Axes>"
      ]
     },
     "metadata": {
      "needs_background": "light"
     },
     "output_type": "display_data"
    }
   ],
   "source": [
    "\n",
    "sns.countplot(x=\"City_Code_Hospital\", data=data)\n",
    "\n",
    "#sns.countplot(x=\"\", data=df)\n",
    "#sns.countplot(x=\"\", data=df)"
   ]
  },
  {
   "cell_type": "code",
   "execution_count": 21,
   "metadata": {},
   "outputs": [
    {
     "data": {
      "text/plain": [
       "<matplotlib.axes._subplots.AxesSubplot at 0x23c19d8fd0>"
      ]
     },
     "execution_count": 21,
     "metadata": {},
     "output_type": "execute_result"
    },
    {
     "data": {
      "image/png": "[encoded data removed]",
      "text/plain": [
       "<Figure size 432x288 with 1 Axes>"
      ]
     },
     "metadata": {
      "needs_background": "light"
     },
     "output_type": "display_data"
    }
   ],
   "source": [
    "sns.countplot(x=\"Hospital_region_code\", data=data)"
   ]
  },
  {
   "cell_type": "code",
   "execution_count": 22,
   "metadata": {},
   "outputs": [
    {
     "data": {
      "text/plain": [
       "<matplotlib.axes._subplots.AxesSubplot at 0x23c1a3dcf8>"
      ]
     },
     "execution_count": 22,
     "metadata": {},
     "output_type": "execute_result"
    },
    {
     "data": {
      "image/png": "[encoded data removed]",
      "text/plain": [
       "<Figure size 432x288 with 1 Axes>"
      ]
     },
     "metadata": {
      "needs_background": "light"
     },
     "output_type": "display_data"
    }
   ],
   "source": [
    "sns.countplot(x=\"Available_Extra_Rooms_in_Hospital\", data=data)"
   ]
  },
  {
   "cell_type": "code",
   "execution_count": 23,
   "metadata": {},
   "outputs": [
    {
     "data": {
      "text/plain": [
       "<matplotlib.axes._subplots.AxesSubplot at 0x23c1b048d0>"
      ]
     },
     "execution_count": 23,
     "metadata": {},
     "output_type": "execute_result"
    },
    {
     "data": {
      "image/png": "[encoded data removed]",
      "text/plain": [
       "<Figure size 576x288 with 1 Axes>"
      ]
     },
     "metadata": {
      "needs_background": "light"
     },
     "output_type": "display_data"
    }
   ],
   "source": [
    "fig_dims = (8, 4)\n",
    "fig, ax = plt.subplots(figsize=fig_dims)\n",
    "sns.countplot(x=\"Department\",ax=ax, data=data)"
   ]
  },
  {
   "cell_type": "code",
   "execution_count": 24,
   "metadata": {},
   "outputs": [
    {
     "data": {
      "text/plain": [
       "<matplotlib.axes._subplots.AxesSubplot at 0x23c1c81e48>"
      ]
     },
     "execution_count": 24,
     "metadata": {},
     "output_type": "execute_result"
    },
    {
     "data": {
      "image/png": "[encoded data removed]",
      "text/plain": [
       "<Figure size 432x288 with 1 Axes>"
      ]
     },
     "metadata": {
      "needs_background": "light"
     },
     "output_type": "display_data"
    }
   ],
   "source": [
    "sns.countplot(x=\"Ward_Type\", data=data)"
   ]
  },
  {
   "cell_type": "code",
   "execution_count": 25,
   "metadata": {},
   "outputs": [
    {
     "data": {
      "text/plain": [
       "<matplotlib.axes._subplots.AxesSubplot at 0x23c1ce66d8>"
      ]
     },
     "execution_count": 25,
     "metadata": {},
     "output_type": "execute_result"
    },
    {
     "data": {
      "image/png": "[encoded data removed]",
      "text/plain": [
       "<Figure size 432x288 with 1 Axes>"
      ]
     },
     "metadata": {
      "needs_background": "light"
     },
     "output_type": "display_data"
    }
   ],
   "source": [
    "sns.countplot(x=\"Ward_Facility_Code\", data=data)"
   ]
  },
  {
   "cell_type": "code",
   "execution_count": 26,
   "metadata": {},
   "outputs": [
    {
     "data": {
      "text/plain": [
       "<matplotlib.axes._subplots.AxesSubplot at 0x23c3ce9e80>"
      ]
     },
     "execution_count": 26,
     "metadata": {},
     "output_type": "execute_result"
    },
    {
     "data": {
      "image/png": "[encoded data removed]",
      "text/plain": [
       "<Figure size 432x288 with 1 Axes>"
      ]
     },
     "metadata": {
      "needs_background": "light"
     },
     "output_type": "display_data"
    }
   ],
   "source": [
    "sns.countplot(x=\"Bed_Grade\", data=data)"
   ]
  },
  {
   "cell_type": "code",
   "execution_count": 27,
   "metadata": {},
   "outputs": [
    {
     "name": "stdout",
     "output_type": "stream",
     "text": [
      "455495 455495\n"
     ]
    }
   ],
   "source": [
    "#sns.jointplot(x=\"case_id\", y=y, data=data)\n",
    "#data[\"case_id\"].unique().count()\n",
    "#sns.jointplot(x=\"patientid\",y=\"Stay\", data=data)\n",
    "\n",
    "\n",
    "# storing unique value in a variable \n",
    "arr = data[\"case_id\"].unique()   \n",
    "# storing unique value in a variable \n",
    "unique_value = data[\"case_id\"].nunique(dropna = True) \n",
    "print(len(arr), unique_value)"
   ]
  },
  {
   "cell_type": "code",
   "execution_count": 28,
   "metadata": {},
   "outputs": [
    {
     "name": "stdout",
     "output_type": "stream",
     "text": [
      "<class 'pandas.core.frame.DataFrame'>\n",
      "Int64Index: 455495 entries, 31397 to 126729\n",
      "Data columns (total 16 columns):\n",
      "case_id                              455495 non-null int64\n",
      "Hospital_code                        455495 non-null int64\n",
      "Hospital_type_code                   455495 non-null object\n",
      "City_Code_Hospital                   455495 non-null int64\n",
      "Hospital_region_code                 455495 non-null object\n",
      "Available_Extra_Rooms_in_Hospital    455495 non-null int64\n",
      "Department                           455495 non-null object\n",
      "Ward_Type                            455495 non-null object\n",
      "Ward_Facility_Code                   455495 non-null object\n",
      "Bed_Grade                            455495 non-null float64\n",
      "City_Code_Patient                    455495 non-null float64\n",
      "Type_of_Admission                    455495 non-null object\n",
      "Severity_of_Illness                  455495 non-null object\n",
      "Visitors_with_Patient                455495 non-null int64\n",
      "Age                                  455495 non-null object\n",
      "Admission_Deposit                    455495 non-null float64\n",
      "dtypes: float64(3), int64(5), object(8)\n",
      "memory usage: 69.1+ MB\n"
     ]
    }
   ],
   "source": [
    "data.info()"
   ]
  },
  {
   "cell_type": "code",
   "execution_count": 29,
   "metadata": {},
   "outputs": [
    {
     "name": "stdout",
     "output_type": "stream",
     "text": [
      "455495\n",
      "37\n"
     ]
    },
    {
     "data": {
      "image/png": "[encoded data removed]",
      "text/plain": [
       "<Figure size 1440x360 with 1 Axes>"
      ]
     },
     "metadata": {
      "needs_background": "light"
     },
     "output_type": "display_data"
    }
   ],
   "source": [
    " fig_dims = (20, 5)\n",
    " fig, ax = plt.subplots(figsize=fig_dims)\n",
    "\n",
    "sns.countplot(x=\"City_Code_Patient\",ax=ax, data=data)\n",
    "print(data[\"City_Code_Patient\"].count())\n",
    "print(len(data[\"City_Code_Patient\"].unique()))"
   ]
  },
  {
   "cell_type": "code",
   "execution_count": 30,
   "metadata": {},
   "outputs": [
    {
     "data": {
      "text/plain": [
       "<matplotlib.axes._subplots.AxesSubplot at 0x23c591b710>"
      ]
     },
     "execution_count": 30,
     "metadata": {},
     "output_type": "execute_result"
    },
    {
     "data": {
      "image/png": "[encoded data removed]",
      "text/plain": [
       "<Figure size 432x288 with 1 Axes>"
      ]
     },
     "metadata": {
      "needs_background": "light"
     },
     "output_type": "display_data"
    }
   ],
   "source": [
    "sns.countplot(x=\"Type_of_Admission\", data=data)"
   ]
  },
  {
   "cell_type": "code",
   "execution_count": 31,
   "metadata": {},
   "outputs": [
    {
     "data": {
      "text/plain": [
       "<matplotlib.axes._subplots.AxesSubplot at 0x23c59a2748>"
      ]
     },
     "execution_count": 31,
     "metadata": {},
     "output_type": "execute_result"
    },
    {
     "data": {
      "image/png": "[encoded data removed]",
      "text/plain": [
       "<Figure size 432x288 with 1 Axes>"
      ]
     },
     "metadata": {
      "needs_background": "light"
     },
     "output_type": "display_data"
    }
   ],
   "source": [
    "sns.countplot(x=\"Severity_of_Illness\", data=data)"
   ]
  },
  {
   "cell_type": "code",
   "execution_count": 32,
   "metadata": {},
   "outputs": [
    {
     "data": {
      "text/plain": [
       "<matplotlib.axes._subplots.AxesSubplot at 0x23c5a0b7b8>"
      ]
     },
     "execution_count": 32,
     "metadata": {},
     "output_type": "execute_result"
    },
    {
     "data": {
      "image/png": "[encoded data removed]",
      "text/plain": [
       "<Figure size 432x288 with 1 Axes>"
      ]
     },
     "metadata": {
      "needs_background": "light"
     },
     "output_type": "display_data"
    }
   ],
   "source": [
    "sns.countplot(x=\"Age\", data=data)\n"
   ]
  },
  {
   "cell_type": "code",
   "execution_count": 33,
   "metadata": {},
   "outputs": [
    {
     "data": {
      "text/plain": [
       "<matplotlib.axes._subplots.AxesSubplot at 0x23c596fc88>"
      ]
     },
     "execution_count": 33,
     "metadata": {},
     "output_type": "execute_result"
    },
    {
     "data": {
      "image/png": "[encoded data removed]",
      "text/plain": [
       "<Figure size 1440x216 with 1 Axes>"
      ]
     },
     "metadata": {
      "needs_background": "light"
     },
     "output_type": "display_data"
    }
   ],
   "source": [
    "fig_dims = (20, 3)\n",
    "fig, ax = plt.subplots(figsize=fig_dims)\n",
    "sns.boxplot(x=\"Admission_Deposit\", ax=ax, data=data)\n",
    "#sns.boxplot(x=\"Visitors_with_Patient\", ax=ax, data=df)"
   ]
  },
  {
   "cell_type": "code",
   "execution_count": 34,
   "metadata": {},
   "outputs": [],
   "source": [
    "# replace outliers by IQR"
   ]
  },
  {
   "cell_type": "code",
   "execution_count": 35,
   "metadata": {},
   "outputs": [],
   "source": [
    "# replace outliers by IQR"
   ]
  },
  {
   "cell_type": "code",
   "execution_count": 36,
   "metadata": {},
   "outputs": [
    {
     "data": {
      "text/plain": [
       "<matplotlib.axes._subplots.AxesSubplot at 0x23c595ce80>"
      ]
     },
     "execution_count": 36,
     "metadata": {},
     "output_type": "execute_result"
    },
    {
     "data": {
      "image/png": "[encoded data removed]",
      "text/plain": [
       "<Figure size 1440x216 with 1 Axes>"
      ]
     },
     "metadata": {
      "needs_background": "light"
     },
     "output_type": "display_data"
    }
   ],
   "source": [
    "fig_dims = (20, 3)\n",
    "fig, ax = plt.subplots(figsize=fig_dims)\n",
    "sns.boxplot(x=\"Visitors_with_Patient\", ax=ax, data=data)"
   ]
  },
  {
   "cell_type": "code",
   "execution_count": 37,
   "metadata": {},
   "outputs": [],
   "source": [
    "# replace outliers by IQR"
   ]
  },
  {
   "cell_type": "code",
   "execution_count": 38,
   "metadata": {},
   "outputs": [
    {
     "data": {
      "text/plain": [
       "<matplotlib.axes._subplots.AxesSubplot at 0x23ca4abb38>"
      ]
     },
     "execution_count": 38,
     "metadata": {},
     "output_type": "execute_result"
    },
    {
     "data": {
      "image/png": "[encoded data removed]",
      "text/plain": [
       "<Figure size 1440x216 with 1 Axes>"
      ]
     },
     "metadata": {
      "needs_background": "light"
     },
     "output_type": "display_data"
    }
   ],
   "source": [
    "fig_dims = (20, 3)\n",
    "fig, ax = plt.subplots(figsize=fig_dims)\n",
    "sns.boxplot(x=\"Hospital_code\", ax=ax, data=data)"
   ]
  },
  {
   "cell_type": "code",
   "execution_count": 39,
   "metadata": {},
   "outputs": [
    {
     "data": {
      "text/plain": [
       "<matplotlib.axes._subplots.AxesSubplot at 0x23ca4c95f8>"
      ]
     },
     "execution_count": 39,
     "metadata": {},
     "output_type": "execute_result"
    },
    {
     "data": {
      "image/png": "[encoded data removed]",
      "text/plain": [
       "<Figure size 1440x216 with 1 Axes>"
      ]
     },
     "metadata": {
      "needs_background": "light"
     },
     "output_type": "display_data"
    }
   ],
   "source": [
    "fig_dims = (20, 3)\n",
    "fig, ax = plt.subplots(figsize=fig_dims)\n",
    "sns.boxplot(x=\"Available_Extra_Rooms_in_Hospital\", ax=ax, data=data)"
   ]
  },
  {
   "cell_type": "code",
   "execution_count": 40,
   "metadata": {},
   "outputs": [],
   "source": [
    "# replace outliers by IQR"
   ]
  },
  {
   "cell_type": "code",
   "execution_count": 41,
   "metadata": {},
   "outputs": [
    {
     "data": {
      "text/plain": [
       "<matplotlib.axes._subplots.AxesSubplot at 0x23ca44a3c8>"
      ]
     },
     "execution_count": 41,
     "metadata": {},
     "output_type": "execute_result"
    },
    {
     "data": {
      "image/png": "[encoded data removed]",
      "text/plain": [
       "<Figure size 1440x216 with 1 Axes>"
      ]
     },
     "metadata": {
      "needs_background": "light"
     },
     "output_type": "display_data"
    }
   ],
   "source": [
    "fig_dims = (20, 3)\n",
    "fig, ax = plt.subplots(figsize=fig_dims)\n",
    "sns.boxplot(x=\"City_Code_Patient\", ax=ax, data=data)"
   ]
  },
  {
   "cell_type": "code",
   "execution_count": 42,
   "metadata": {},
   "outputs": [],
   "source": [
    "# replace outliers by IQR"
   ]
  },
  {
   "cell_type": "code",
   "execution_count": 43,
   "metadata": {},
   "outputs": [],
   "source": [
    "#sns.countplot(x=\"\", data=df)\n",
    "#sns.boxplot?"
   ]
  },
  {
   "cell_type": "markdown",
   "metadata": {},
   "source": [
    "Outliers present in \n",
    "\n",
    "        City_Code_Patient \n",
    "        Available_Extra_Rooms_in_Hospital \n",
    "        Hospital_code \n",
    "        Visitors_with_Patient\n",
    "\n",
    "Replace outlier values by IQR\n",
    "\n",
    "scaling\n",
    "\n",
    "encoding"
   ]
  },
  {
   "cell_type": "code",
   "execution_count": 44,
   "metadata": {},
   "outputs": [],
   "source": [
    "# t = df['Stay'].unique()\n",
    "# t.sort()\n",
    "# print(\"\\nStay\\n\" , t)\n",
    "\n",
    "# #classification problem"
   ]
  },
  {
   "cell_type": "code",
   "execution_count": 45,
   "metadata": {},
   "outputs": [
    {
     "name": "stdout",
     "output_type": "stream",
     "text": [
      "case_id                              0\n",
      "Hospital_code                        0\n",
      "Hospital_type_code                   0\n",
      "City_Code_Hospital                   0\n",
      "Hospital_region_code                 0\n",
      "Available_Extra_Rooms_in_Hospital    0\n",
      "Department                           0\n",
      "Ward_Type                            0\n",
      "Ward_Facility_Code                   0\n",
      "Bed_Grade                            0\n",
      "City_Code_Patient                    0\n",
      "Type_of_Admission                    0\n",
      "Severity_of_Illness                  0\n",
      "Visitors_with_Patient                0\n",
      "Age                                  0\n",
      "Admission_Deposit                    0\n",
      "dtype: int64\n",
      "<class 'pandas.core.frame.DataFrame'>\n",
      "Int64Index: 455495 entries, 31397 to 126729\n",
      "Data columns (total 16 columns):\n",
      "case_id                              455495 non-null int64\n",
      "Hospital_code                        455495 non-null int64\n",
      "Hospital_type_code                   455495 non-null object\n",
      "City_Code_Hospital                   455495 non-null int64\n",
      "Hospital_region_code                 455495 non-null object\n",
      "Available_Extra_Rooms_in_Hospital    455495 non-null int64\n",
      "Department                           455495 non-null object\n",
      "Ward_Type                            455495 non-null object\n",
      "Ward_Facility_Code                   455495 non-null object\n",
      "Bed_Grade                            455495 non-null float64\n",
      "City_Code_Patient                    455495 non-null float64\n",
      "Type_of_Admission                    455495 non-null object\n",
      "Severity_of_Illness                  455495 non-null object\n",
      "Visitors_with_Patient                455495 non-null int64\n",
      "Age                                  455495 non-null object\n",
      "Admission_Deposit                    455495 non-null float64\n",
      "dtypes: float64(3), int64(5), object(8)\n",
      "memory usage: 69.1+ MB\n"
     ]
    }
   ],
   "source": [
    "#df.shape\n",
    "print(data.isnull().sum())\n",
    "#df.head()\n",
    "data.info()"
   ]
  },
  {
   "cell_type": "code",
   "execution_count": 46,
   "metadata": {},
   "outputs": [
    {
     "data": {
      "text/plain": [
       "case_id                               int64\n",
       "Hospital_code                         int64\n",
       "Hospital_type_code                   object\n",
       "City_Code_Hospital                    int64\n",
       "Hospital_region_code                 object\n",
       "Available_Extra_Rooms_in_Hospital     int64\n",
       "Department                           object\n",
       "Ward_Type                            object\n",
       "Ward_Facility_Code                   object\n",
       "Bed_Grade                             int32\n",
       "City_Code_Patient                     int32\n",
       "Type_of_Admission                    object\n",
       "Severity_of_Illness                  object\n",
       "Visitors_with_Patient                 int64\n",
       "Age                                  object\n",
       "Admission_Deposit                     int32\n",
       "dtype: object"
      ]
     },
     "execution_count": 46,
     "metadata": {},
     "output_type": "execute_result"
    }
   ],
   "source": [
    "#df.astype(int)\n",
    "# converting 'Weight' from float to int \n",
    "#df['Bed_Grade'] = df['Bed_Grade'].astype(int) \n",
    "\n",
    "# converting 'Weight' and 'Salary' from float to int \n",
    "data = data.astype({\"Admission_Deposit\":'int', \"City_Code_Patient\":'int',\"Bed_Grade\":'int'})  \n",
    "data.dtypes"
   ]
  },
  {
   "cell_type": "code",
   "execution_count": 47,
   "metadata": {},
   "outputs": [],
   "source": [
    "#scaler = StandardScaler()\n",
    "#scaled_df =scaler.fit_transform(df)"
   ]
  },
  {
   "cell_type": "code",
   "execution_count": 48,
   "metadata": {},
   "outputs": [],
   "source": [
    "label_encoder = preprocessing.LabelEncoder()"
   ]
  },
  {
   "cell_type": "code",
   "execution_count": 49,
   "metadata": {},
   "outputs": [
    {
     "name": "stdout",
     "output_type": "stream",
     "text": [
      "[     1      2      3 ... 455493 455494 455495]\n"
     ]
    },
    {
     "data": {
      "text/plain": [
       "array([     0,      1,      2, ..., 455492, 455493, 455494], dtype=int64)"
      ]
     },
     "execution_count": 49,
     "metadata": {},
     "output_type": "execute_result"
    }
   ],
   "source": [
    "# Encode labels in column 'Department'.\n",
    "cid = data['case_id'].unique()\n",
    "cid.sort()\n",
    "print(cid)\n",
    "data['case_id']= label_encoder.fit_transform(data['case_id']) \n",
    "data['case_id'].unique()\n"
   ]
  },
  {
   "cell_type": "code",
   "execution_count": 50,
   "metadata": {},
   "outputs": [],
   "source": [
    "#sns.lineplot(x=\"case_id\", y=\"Stay\", data=df)"
   ]
  },
  {
   "cell_type": "code",
   "execution_count": 51,
   "metadata": {},
   "outputs": [
    {
     "name": "stdout",
     "output_type": "stream",
     "text": [
      "['radiotherapy' 'anesthesia' 'gynecology' 'TB & Chest disease' 'surgery']\n"
     ]
    },
    {
     "data": {
      "text/plain": [
       "array([3, 1, 2, 0, 4], dtype=int64)"
      ]
     },
     "execution_count": 51,
     "metadata": {},
     "output_type": "execute_result"
    }
   ],
   "source": [
    "# Encode labels in column 'Department'. \n",
    "print(data['Department'].unique())\n",
    "data['Department']= label_encoder.fit_transform(data['Department']) \n",
    "data['Department'].unique()\n"
   ]
  },
  {
   "cell_type": "code",
   "execution_count": 52,
   "metadata": {},
   "outputs": [
    {
     "name": "stdout",
     "output_type": "stream",
     "text": [
      "['R' 'S' 'Q' 'P' 'T' 'U']\n"
     ]
    },
    {
     "data": {
      "text/plain": [
       "array([2, 3, 1, 0, 4, 5], dtype=int64)"
      ]
     },
     "execution_count": 52,
     "metadata": {},
     "output_type": "execute_result"
    }
   ],
   "source": [
    "print(data['Ward_Type'].unique())\n",
    "data['Ward_Type']= label_encoder.fit_transform(data['Ward_Type']) \n",
    "data['Ward_Type'].unique()"
   ]
  },
  {
   "cell_type": "code",
   "execution_count": 53,
   "metadata": {},
   "outputs": [
    {
     "name": "stdout",
     "output_type": "stream",
     "text": [
      "['F' 'E' 'D' 'B' 'A' 'C']\n"
     ]
    },
    {
     "data": {
      "text/plain": [
       "array([5, 4, 3, 1, 0, 2], dtype=int64)"
      ]
     },
     "execution_count": 53,
     "metadata": {},
     "output_type": "execute_result"
    }
   ],
   "source": [
    "print(data['Ward_Facility_Code'].unique())\n",
    "data['Ward_Facility_Code']= label_encoder.fit_transform(data['Ward_Facility_Code']) \n",
    "data['Ward_Facility_Code'].unique()"
   ]
  },
  {
   "cell_type": "code",
   "execution_count": 54,
   "metadata": {},
   "outputs": [
    {
     "name": "stdout",
     "output_type": "stream",
     "text": [
      "['Emergency' 'Trauma' 'Urgent']\n"
     ]
    },
    {
     "data": {
      "text/plain": [
       "array([0, 1, 2], dtype=int64)"
      ]
     },
     "execution_count": 54,
     "metadata": {},
     "output_type": "execute_result"
    }
   ],
   "source": [
    "print(data['Type_of_Admission'].unique())\n",
    "data['Type_of_Admission']= label_encoder.fit_transform(data['Type_of_Admission']) \n",
    "data['Type_of_Admission'].unique()"
   ]
  },
  {
   "cell_type": "code",
   "execution_count": 55,
   "metadata": {},
   "outputs": [
    {
     "name": "stdout",
     "output_type": "stream",
     "text": [
      "['Extreme' 'Moderate' 'Minor']\n"
     ]
    },
    {
     "data": {
      "text/plain": [
       "array([0, 2, 1], dtype=int64)"
      ]
     },
     "execution_count": 55,
     "metadata": {},
     "output_type": "execute_result"
    }
   ],
   "source": [
    "print(data['Severity_of_Illness'].unique())\n",
    "data['Severity_of_Illness']= label_encoder.fit_transform(data['Severity_of_Illness']) \n",
    "data['Severity_of_Illness'].unique()"
   ]
  },
  {
   "cell_type": "code",
   "execution_count": 56,
   "metadata": {},
   "outputs": [
    {
     "name": "stdout",
     "output_type": "stream",
     "text": [
      "['51-60' '71-80' '31-40' '41-50' '81-90' '61-70' '21-30' '11-20' '0-10'\n",
      " '91-100']\n"
     ]
    },
    {
     "data": {
      "text/plain": [
       "array([5, 7, 3, 4, 8, 6, 2, 1, 0, 9], dtype=int64)"
      ]
     },
     "execution_count": 56,
     "metadata": {},
     "output_type": "execute_result"
    }
   ],
   "source": [
    "print(data['Age'].unique())\n",
    "data['Age']= label_encoder.fit_transform(data['Age']) \n",
    "data['Age'].unique()"
   ]
  },
  {
   "cell_type": "code",
   "execution_count": 57,
   "metadata": {},
   "outputs": [],
   "source": [
    "# print(df_train['Stay'].unique())\n",
    "# data['Stay']= label_encoder.fit_transform(data['Stay']) \n",
    "# data['Stay'].unique()"
   ]
  },
  {
   "cell_type": "code",
   "execution_count": 58,
   "metadata": {},
   "outputs": [
    {
     "name": "stdout",
     "output_type": "stream",
     "text": [
      "['c' 'e' 'b' 'a' 'f' 'd' 'g']\n"
     ]
    },
    {
     "data": {
      "text/plain": [
       "array([2, 4, 1, 0, 5, 3, 6], dtype=int64)"
      ]
     },
     "execution_count": 58,
     "metadata": {},
     "output_type": "execute_result"
    }
   ],
   "source": [
    "print(data['Hospital_type_code'].unique())\n",
    "data['Hospital_type_code']= label_encoder.fit_transform(data['Hospital_type_code']) \n",
    "data['Hospital_type_code'].unique()"
   ]
  },
  {
   "cell_type": "code",
   "execution_count": 59,
   "metadata": {},
   "outputs": [
    {
     "name": "stdout",
     "output_type": "stream",
     "text": [
      "['Z' 'X' 'Y']\n"
     ]
    },
    {
     "data": {
      "text/plain": [
       "array([2, 0, 1], dtype=int64)"
      ]
     },
     "execution_count": 59,
     "metadata": {},
     "output_type": "execute_result"
    }
   ],
   "source": [
    "print(data['Hospital_region_code'].unique())\n",
    "data['Hospital_region_code']= label_encoder.fit_transform(data['Hospital_region_code']) \n",
    "data['Hospital_region_code'].unique()"
   ]
  },
  {
   "cell_type": "code",
   "execution_count": 60,
   "metadata": {},
   "outputs": [
    {
     "name": "stdout",
     "output_type": "stream",
     "text": [
      "[2 3 4 1]\n"
     ]
    },
    {
     "data": {
      "text/plain": [
       "array([1, 2, 3, 0], dtype=int64)"
      ]
     },
     "execution_count": 60,
     "metadata": {},
     "output_type": "execute_result"
    }
   ],
   "source": [
    "print(data['Bed_Grade'].unique())\n",
    "data['Bed_Grade']= label_encoder.fit_transform(data['Bed_Grade']) \n",
    "data['Bed_Grade'].unique()\n",
    "\n",
    "#df['']= label_encoder.fit_transform(df['']) \n",
    "#df[''].unique()"
   ]
  },
  {
   "cell_type": "code",
   "execution_count": 61,
   "metadata": {},
   "outputs": [
    {
     "data": {
      "text/plain": [
       "array([     0,      1,      2, ..., 455492, 455493, 455494], dtype=int64)"
      ]
     },
     "execution_count": 61,
     "metadata": {},
     "output_type": "execute_result"
    }
   ],
   "source": [
    "data['case_id']= label_encoder.fit_transform(data['case_id']) \n",
    "data['case_id'].unique()"
   ]
  },
  {
   "cell_type": "code",
   "execution_count": 62,
   "metadata": {},
   "outputs": [
    {
     "data": {
      "text/plain": [
       "array([ 2,  4,  0,  1,  5,  7,  8,  3,  9,  6, 10], dtype=int64)"
      ]
     },
     "execution_count": 62,
     "metadata": {},
     "output_type": "execute_result"
    }
   ],
   "source": [
    "data['City_Code_Hospital']= label_encoder.fit_transform(data['City_Code_Hospital']) \n",
    "data['City_Code_Hospital'].unique()"
   ]
  },
  {
   "cell_type": "code",
   "execution_count": 63,
   "metadata": {},
   "outputs": [],
   "source": [
    "#print(df['Admission_Deposit'].unique())\n",
    "#df['Admission_Deposit']= label_encoder.fit_transform(df['Admission_Deposit']) \n",
    "#df['Admission_Deposit'].unique()"
   ]
  },
  {
   "cell_type": "code",
   "execution_count": 64,
   "metadata": {},
   "outputs": [
    {
     "name": "stdout",
     "output_type": "stream",
     "text": [
      "[ 7  8  2  5  6  3  4  1  9 14 25 15 12 10 28 24 23 20 11 13 21 18 16 26\n",
      " 27 22 19 31 34 32 30 29 37 33 35 36 38]\n"
     ]
    },
    {
     "data": {
      "text/plain": [
       "array([ 6,  7,  1,  4,  5,  2,  3,  0,  8, 13, 23, 14, 11,  9, 26, 22, 21,\n",
       "       18, 10, 12, 19, 16, 15, 24, 25, 20, 17, 29, 32, 30, 28, 27, 35, 31,\n",
       "       33, 34, 36], dtype=int64)"
      ]
     },
     "execution_count": 64,
     "metadata": {},
     "output_type": "execute_result"
    }
   ],
   "source": [
    "print(data['City_Code_Patient'].unique())\n",
    "data['City_Code_Patient']= label_encoder.fit_transform(data['City_Code_Patient']) \n",
    "data['City_Code_Patient'].unique()"
   ]
  },
  {
   "cell_type": "code",
   "execution_count": 65,
   "metadata": {},
   "outputs": [
    {
     "name": "stdout",
     "output_type": "stream",
     "text": [
      "[ 1  2  3  4  5  6  7  8  9 10 11 12 13 14 15 16 17 18 19 20 21 22 23 24\n",
      " 25 26 27 28 29 30 31 32]\n"
     ]
    },
    {
     "data": {
      "text/plain": [
       "array([ 7,  1,  9, 25, 22, 31,  0, 21, 15,  8,  5, 28, 11,  2, 20, 27, 26,\n",
       "       18,  4, 13, 12, 30, 23, 16, 24, 14, 10, 29, 17,  3,  6, 19],\n",
       "      dtype=int64)"
      ]
     },
     "execution_count": 65,
     "metadata": {},
     "output_type": "execute_result"
    }
   ],
   "source": [
    "hc = data['Hospital_code'].unique()\n",
    "hc.sort()\n",
    "print(hc)\n",
    "data['Hospital_code']= label_encoder.fit_transform(data['Hospital_code']) \n",
    "data['Hospital_code'].unique()"
   ]
  },
  {
   "cell_type": "code",
   "execution_count": 66,
   "metadata": {},
   "outputs": [
    {
     "data": {
      "text/html": [
       "<div>\n",
       "<style scoped>\n",
       "    .dataframe tbody tr th:only-of-type {\n",
       "        vertical-align: middle;\n",
       "    }\n",
       "\n",
       "    .dataframe tbody tr th {\n",
       "        vertical-align: top;\n",
       "    }\n",
       "\n",
       "    .dataframe thead th {\n",
       "        text-align: right;\n",
       "    }\n",
       "</style>\n",
       "<table border=\"1\" class=\"dataframe\">\n",
       "  <thead>\n",
       "    <tr style=\"text-align: right;\">\n",
       "      <th></th>\n",
       "      <th>case_id</th>\n",
       "      <th>Hospital_code</th>\n",
       "      <th>Hospital_type_code</th>\n",
       "      <th>City_Code_Hospital</th>\n",
       "      <th>Hospital_region_code</th>\n",
       "      <th>Available_Extra_Rooms_in_Hospital</th>\n",
       "      <th>Department</th>\n",
       "      <th>Ward_Type</th>\n",
       "      <th>Ward_Facility_Code</th>\n",
       "      <th>Bed_Grade</th>\n",
       "      <th>City_Code_Patient</th>\n",
       "      <th>Type_of_Admission</th>\n",
       "      <th>Severity_of_Illness</th>\n",
       "      <th>Visitors_with_Patient</th>\n",
       "      <th>Age</th>\n",
       "      <th>Admission_Deposit</th>\n",
       "    </tr>\n",
       "    <tr>\n",
       "      <th>patientid</th>\n",
       "      <th></th>\n",
       "      <th></th>\n",
       "      <th></th>\n",
       "      <th></th>\n",
       "      <th></th>\n",
       "      <th></th>\n",
       "      <th></th>\n",
       "      <th></th>\n",
       "      <th></th>\n",
       "      <th></th>\n",
       "      <th></th>\n",
       "      <th></th>\n",
       "      <th></th>\n",
       "      <th></th>\n",
       "      <th></th>\n",
       "      <th></th>\n",
       "    </tr>\n",
       "  </thead>\n",
       "  <tbody>\n",
       "    <tr>\n",
       "      <th>31397</th>\n",
       "      <td>0</td>\n",
       "      <td>7</td>\n",
       "      <td>2</td>\n",
       "      <td>2</td>\n",
       "      <td>2</td>\n",
       "      <td>3</td>\n",
       "      <td>3</td>\n",
       "      <td>2</td>\n",
       "      <td>5</td>\n",
       "      <td>1</td>\n",
       "      <td>6</td>\n",
       "      <td>0</td>\n",
       "      <td>0</td>\n",
       "      <td>2</td>\n",
       "      <td>5</td>\n",
       "      <td>4911</td>\n",
       "    </tr>\n",
       "    <tr>\n",
       "      <th>31397</th>\n",
       "      <td>1</td>\n",
       "      <td>1</td>\n",
       "      <td>2</td>\n",
       "      <td>4</td>\n",
       "      <td>2</td>\n",
       "      <td>2</td>\n",
       "      <td>3</td>\n",
       "      <td>3</td>\n",
       "      <td>5</td>\n",
       "      <td>1</td>\n",
       "      <td>6</td>\n",
       "      <td>1</td>\n",
       "      <td>0</td>\n",
       "      <td>2</td>\n",
       "      <td>5</td>\n",
       "      <td>5954</td>\n",
       "    </tr>\n",
       "    <tr>\n",
       "      <th>31397</th>\n",
       "      <td>2</td>\n",
       "      <td>9</td>\n",
       "      <td>4</td>\n",
       "      <td>0</td>\n",
       "      <td>0</td>\n",
       "      <td>2</td>\n",
       "      <td>1</td>\n",
       "      <td>3</td>\n",
       "      <td>4</td>\n",
       "      <td>1</td>\n",
       "      <td>6</td>\n",
       "      <td>1</td>\n",
       "      <td>0</td>\n",
       "      <td>2</td>\n",
       "      <td>5</td>\n",
       "      <td>4745</td>\n",
       "    </tr>\n",
       "    <tr>\n",
       "      <th>31397</th>\n",
       "      <td>3</td>\n",
       "      <td>25</td>\n",
       "      <td>1</td>\n",
       "      <td>1</td>\n",
       "      <td>1</td>\n",
       "      <td>2</td>\n",
       "      <td>3</td>\n",
       "      <td>2</td>\n",
       "      <td>3</td>\n",
       "      <td>1</td>\n",
       "      <td>6</td>\n",
       "      <td>1</td>\n",
       "      <td>0</td>\n",
       "      <td>2</td>\n",
       "      <td>5</td>\n",
       "      <td>7272</td>\n",
       "    </tr>\n",
       "    <tr>\n",
       "      <th>31397</th>\n",
       "      <td>4</td>\n",
       "      <td>25</td>\n",
       "      <td>1</td>\n",
       "      <td>1</td>\n",
       "      <td>1</td>\n",
       "      <td>2</td>\n",
       "      <td>3</td>\n",
       "      <td>3</td>\n",
       "      <td>3</td>\n",
       "      <td>1</td>\n",
       "      <td>6</td>\n",
       "      <td>1</td>\n",
       "      <td>0</td>\n",
       "      <td>2</td>\n",
       "      <td>5</td>\n",
       "      <td>5558</td>\n",
       "    </tr>\n",
       "  </tbody>\n",
       "</table>\n",
       "</div>"
      ],
      "text/plain": [
       "           case_id  Hospital_code  Hospital_type_code  City_Code_Hospital  \\\n",
       "patientid                                                                   \n",
       "31397            0              7                   2                   2   \n",
       "31397            1              1                   2                   4   \n",
       "31397            2              9                   4                   0   \n",
       "31397            3             25                   1                   1   \n",
       "31397            4             25                   1                   1   \n",
       "\n",
       "           Hospital_region_code  Available_Extra_Rooms_in_Hospital  \\\n",
       "patientid                                                            \n",
       "31397                         2                                  3   \n",
       "31397                         2                                  2   \n",
       "31397                         0                                  2   \n",
       "31397                         1                                  2   \n",
       "31397                         1                                  2   \n",
       "\n",
       "           Department  Ward_Type  Ward_Facility_Code  Bed_Grade  \\\n",
       "patientid                                                         \n",
       "31397               3          2                   5          1   \n",
       "31397               3          3                   5          1   \n",
       "31397               1          3                   4          1   \n",
       "31397               3          2                   3          1   \n",
       "31397               3          3                   3          1   \n",
       "\n",
       "           City_Code_Patient  Type_of_Admission  Severity_of_Illness  \\\n",
       "patientid                                                              \n",
       "31397                      6                  0                    0   \n",
       "31397                      6                  1                    0   \n",
       "31397                      6                  1                    0   \n",
       "31397                      6                  1                    0   \n",
       "31397                      6                  1                    0   \n",
       "\n",
       "           Visitors_with_Patient  Age  Admission_Deposit  \n",
       "patientid                                                 \n",
       "31397                          2    5               4911  \n",
       "31397                          2    5               5954  \n",
       "31397                          2    5               4745  \n",
       "31397                          2    5               7272  \n",
       "31397                          2    5               5558  "
      ]
     },
     "execution_count": 66,
     "metadata": {},
     "output_type": "execute_result"
    }
   ],
   "source": [
    "data.head()"
   ]
  },
  {
   "cell_type": "code",
   "execution_count": 67,
   "metadata": {},
   "outputs": [
    {
     "data": {
      "text/html": [
       "<div>\n",
       "<style scoped>\n",
       "    .dataframe tbody tr th:only-of-type {\n",
       "        vertical-align: middle;\n",
       "    }\n",
       "\n",
       "    .dataframe tbody tr th {\n",
       "        vertical-align: top;\n",
       "    }\n",
       "\n",
       "    .dataframe thead th {\n",
       "        text-align: right;\n",
       "    }\n",
       "</style>\n",
       "<table border=\"1\" class=\"dataframe\">\n",
       "  <thead>\n",
       "    <tr style=\"text-align: right;\">\n",
       "      <th></th>\n",
       "      <th>case_id</th>\n",
       "      <th>Hospital_code</th>\n",
       "      <th>Hospital_type_code</th>\n",
       "      <th>City_Code_Hospital</th>\n",
       "      <th>Hospital_region_code</th>\n",
       "      <th>Available_Extra_Rooms_in_Hospital</th>\n",
       "      <th>Department</th>\n",
       "      <th>Ward_Type</th>\n",
       "      <th>Ward_Facility_Code</th>\n",
       "      <th>Bed_Grade</th>\n",
       "      <th>City_Code_Patient</th>\n",
       "      <th>Type_of_Admission</th>\n",
       "      <th>Severity_of_Illness</th>\n",
       "      <th>Visitors_with_Patient</th>\n",
       "      <th>Age</th>\n",
       "      <th>Admission_Deposit</th>\n",
       "    </tr>\n",
       "  </thead>\n",
       "  <tbody>\n",
       "    <tr>\n",
       "      <th>count</th>\n",
       "      <td>455495.00000</td>\n",
       "      <td>455495.000000</td>\n",
       "      <td>455495.000000</td>\n",
       "      <td>455495.000000</td>\n",
       "      <td>455495.000000</td>\n",
       "      <td>455495.000000</td>\n",
       "      <td>455495.000000</td>\n",
       "      <td>455495.000000</td>\n",
       "      <td>455495.000000</td>\n",
       "      <td>455495.000000</td>\n",
       "      <td>455495.000000</td>\n",
       "      <td>455495.000000</td>\n",
       "      <td>455495.000000</td>\n",
       "      <td>455495.000000</td>\n",
       "      <td>455495.000000</td>\n",
       "      <td>455495.000000</td>\n",
       "    </tr>\n",
       "    <tr>\n",
       "      <th>mean</th>\n",
       "      <td>227747.00000</td>\n",
       "      <td>17.326335</td>\n",
       "      <td>1.256501</td>\n",
       "      <td>3.592349</td>\n",
       "      <td>0.778461</td>\n",
       "      <td>3.196140</td>\n",
       "      <td>1.944024</td>\n",
       "      <td>1.888087</td>\n",
       "      <td>3.286956</td>\n",
       "      <td>1.628215</td>\n",
       "      <td>6.217862</td>\n",
       "      <td>0.782867</td>\n",
       "      <td>1.374033</td>\n",
       "      <td>3.284229</td>\n",
       "      <td>4.126757</td>\n",
       "      <td>4877.434022</td>\n",
       "    </tr>\n",
       "    <tr>\n",
       "      <th>std</th>\n",
       "      <td>131490.22477</td>\n",
       "      <td>8.634036</td>\n",
       "      <td>1.532773</td>\n",
       "      <td>2.806344</td>\n",
       "      <td>0.753238</td>\n",
       "      <td>1.166994</td>\n",
       "      <td>0.561536</td>\n",
       "      <td>0.804688</td>\n",
       "      <td>1.689726</td>\n",
       "      <td>0.871929</td>\n",
       "      <td>4.586532</td>\n",
       "      <td>0.689184</td>\n",
       "      <td>0.768535</td>\n",
       "      <td>1.768044</td>\n",
       "      <td>1.889698</td>\n",
       "      <td>1084.982089</td>\n",
       "    </tr>\n",
       "    <tr>\n",
       "      <th>min</th>\n",
       "      <td>0.00000</td>\n",
       "      <td>0.000000</td>\n",
       "      <td>0.000000</td>\n",
       "      <td>0.000000</td>\n",
       "      <td>0.000000</td>\n",
       "      <td>0.000000</td>\n",
       "      <td>0.000000</td>\n",
       "      <td>0.000000</td>\n",
       "      <td>0.000000</td>\n",
       "      <td>0.000000</td>\n",
       "      <td>0.000000</td>\n",
       "      <td>0.000000</td>\n",
       "      <td>0.000000</td>\n",
       "      <td>0.000000</td>\n",
       "      <td>0.000000</td>\n",
       "      <td>1800.000000</td>\n",
       "    </tr>\n",
       "    <tr>\n",
       "      <th>25%</th>\n",
       "      <td>113873.50000</td>\n",
       "      <td>10.000000</td>\n",
       "      <td>0.000000</td>\n",
       "      <td>1.000000</td>\n",
       "      <td>0.000000</td>\n",
       "      <td>2.000000</td>\n",
       "      <td>2.000000</td>\n",
       "      <td>1.000000</td>\n",
       "      <td>2.000000</td>\n",
       "      <td>1.000000</td>\n",
       "      <td>3.000000</td>\n",
       "      <td>0.000000</td>\n",
       "      <td>1.000000</td>\n",
       "      <td>2.000000</td>\n",
       "      <td>3.000000</td>\n",
       "      <td>4184.000000</td>\n",
       "    </tr>\n",
       "    <tr>\n",
       "      <th>50%</th>\n",
       "      <td>227747.00000</td>\n",
       "      <td>18.000000</td>\n",
       "      <td>1.000000</td>\n",
       "      <td>4.000000</td>\n",
       "      <td>1.000000</td>\n",
       "      <td>3.000000</td>\n",
       "      <td>2.000000</td>\n",
       "      <td>2.000000</td>\n",
       "      <td>4.000000</td>\n",
       "      <td>2.000000</td>\n",
       "      <td>7.000000</td>\n",
       "      <td>1.000000</td>\n",
       "      <td>2.000000</td>\n",
       "      <td>3.000000</td>\n",
       "      <td>4.000000</td>\n",
       "      <td>4738.000000</td>\n",
       "    </tr>\n",
       "    <tr>\n",
       "      <th>75%</th>\n",
       "      <td>341620.50000</td>\n",
       "      <td>25.000000</td>\n",
       "      <td>2.000000</td>\n",
       "      <td>6.000000</td>\n",
       "      <td>1.000000</td>\n",
       "      <td>4.000000</td>\n",
       "      <td>2.000000</td>\n",
       "      <td>2.000000</td>\n",
       "      <td>5.000000</td>\n",
       "      <td>2.000000</td>\n",
       "      <td>7.000000</td>\n",
       "      <td>1.000000</td>\n",
       "      <td>2.000000</td>\n",
       "      <td>4.000000</td>\n",
       "      <td>5.000000</td>\n",
       "      <td>5405.000000</td>\n",
       "    </tr>\n",
       "    <tr>\n",
       "      <th>max</th>\n",
       "      <td>455494.00000</td>\n",
       "      <td>31.000000</td>\n",
       "      <td>6.000000</td>\n",
       "      <td>10.000000</td>\n",
       "      <td>2.000000</td>\n",
       "      <td>24.000000</td>\n",
       "      <td>4.000000</td>\n",
       "      <td>5.000000</td>\n",
       "      <td>5.000000</td>\n",
       "      <td>3.000000</td>\n",
       "      <td>36.000000</td>\n",
       "      <td>2.000000</td>\n",
       "      <td>2.000000</td>\n",
       "      <td>32.000000</td>\n",
       "      <td>9.000000</td>\n",
       "      <td>11920.000000</td>\n",
       "    </tr>\n",
       "  </tbody>\n",
       "</table>\n",
       "</div>"
      ],
      "text/plain": [
       "            case_id  Hospital_code  Hospital_type_code  City_Code_Hospital  \\\n",
       "count  455495.00000  455495.000000       455495.000000       455495.000000   \n",
       "mean   227747.00000      17.326335            1.256501            3.592349   \n",
       "std    131490.22477       8.634036            1.532773            2.806344   \n",
       "min         0.00000       0.000000            0.000000            0.000000   \n",
       "25%    113873.50000      10.000000            0.000000            1.000000   \n",
       "50%    227747.00000      18.000000            1.000000            4.000000   \n",
       "75%    341620.50000      25.000000            2.000000            6.000000   \n",
       "max    455494.00000      31.000000            6.000000           10.000000   \n",
       "\n",
       "       Hospital_region_code  Available_Extra_Rooms_in_Hospital     Department  \\\n",
       "count         455495.000000                      455495.000000  455495.000000   \n",
       "mean               0.778461                           3.196140       1.944024   \n",
       "std                0.753238                           1.166994       0.561536   \n",
       "min                0.000000                           0.000000       0.000000   \n",
       "25%                0.000000                           2.000000       2.000000   \n",
       "50%                1.000000                           3.000000       2.000000   \n",
       "75%                1.000000                           4.000000       2.000000   \n",
       "max                2.000000                          24.000000       4.000000   \n",
       "\n",
       "           Ward_Type  Ward_Facility_Code      Bed_Grade  City_Code_Patient  \\\n",
       "count  455495.000000       455495.000000  455495.000000      455495.000000   \n",
       "mean        1.888087            3.286956       1.628215           6.217862   \n",
       "std         0.804688            1.689726       0.871929           4.586532   \n",
       "min         0.000000            0.000000       0.000000           0.000000   \n",
       "25%         1.000000            2.000000       1.000000           3.000000   \n",
       "50%         2.000000            4.000000       2.000000           7.000000   \n",
       "75%         2.000000            5.000000       2.000000           7.000000   \n",
       "max         5.000000            5.000000       3.000000          36.000000   \n",
       "\n",
       "       Type_of_Admission  Severity_of_Illness  Visitors_with_Patient  \\\n",
       "count      455495.000000        455495.000000          455495.000000   \n",
       "mean            0.782867             1.374033               3.284229   \n",
       "std             0.689184             0.768535               1.768044   \n",
       "min             0.000000             0.000000               0.000000   \n",
       "25%             0.000000             1.000000               2.000000   \n",
       "50%             1.000000             2.000000               3.000000   \n",
       "75%             1.000000             2.000000               4.000000   \n",
       "max             2.000000             2.000000              32.000000   \n",
       "\n",
       "                 Age  Admission_Deposit  \n",
       "count  455495.000000      455495.000000  \n",
       "mean        4.126757        4877.434022  \n",
       "std         1.889698        1084.982089  \n",
       "min         0.000000        1800.000000  \n",
       "25%         3.000000        4184.000000  \n",
       "50%         4.000000        4738.000000  \n",
       "75%         5.000000        5405.000000  \n",
       "max         9.000000       11920.000000  "
      ]
     },
     "execution_count": 67,
     "metadata": {},
     "output_type": "execute_result"
    }
   ],
   "source": [
    "data.describe()"
   ]
  },
  {
   "cell_type": "code",
   "execution_count": 68,
   "metadata": {},
   "outputs": [
    {
     "data": {
      "text/plain": [
       "(455495, 16)"
      ]
     },
     "execution_count": 68,
     "metadata": {},
     "output_type": "execute_result"
    }
   ],
   "source": [
    "data.shape"
   ]
  },
  {
   "cell_type": "code",
   "execution_count": 69,
   "metadata": {},
   "outputs": [
    {
     "name": "stdout",
     "output_type": "stream",
     "text": [
      "<class 'pandas.core.frame.DataFrame'>\n",
      "Int64Index: 455495 entries, 31397 to 126729\n",
      "Data columns (total 16 columns):\n",
      "case_id                              455495 non-null int64\n",
      "Hospital_code                        455495 non-null int64\n",
      "Hospital_type_code                   455495 non-null int32\n",
      "City_Code_Hospital                   455495 non-null int64\n",
      "Hospital_region_code                 455495 non-null int32\n",
      "Available_Extra_Rooms_in_Hospital    455495 non-null int64\n",
      "Department                           455495 non-null int32\n",
      "Ward_Type                            455495 non-null int32\n",
      "Ward_Facility_Code                   455495 non-null int32\n",
      "Bed_Grade                            455495 non-null int64\n",
      "City_Code_Patient                    455495 non-null int64\n",
      "Type_of_Admission                    455495 non-null int32\n",
      "Severity_of_Illness                  455495 non-null int32\n",
      "Visitors_with_Patient                455495 non-null int64\n",
      "Age                                  455495 non-null int32\n",
      "Admission_Deposit                    455495 non-null int32\n",
      "dtypes: int32(9), int64(7)\n",
      "memory usage: 43.4 MB\n"
     ]
    }
   ],
   "source": [
    "data.info()"
   ]
  },
  {
   "cell_type": "markdown",
   "metadata": {},
   "source": [
    "Missing Values in \n",
    "\n",
    "        Bed Grade        \n",
    "        City_Code_Patient\n",
    "        "
   ]
  },
  {
   "cell_type": "markdown",
   "metadata": {},
   "source": [
    "### preprocessing of df (train_data) ends here"
   ]
  },
  {
   "cell_type": "code",
   "execution_count": 70,
   "metadata": {},
   "outputs": [],
   "source": [
    "data_train = data.iloc[:318438]\n",
    "data_test = data.iloc[318438:]"
   ]
  },
  {
   "cell_type": "code",
   "execution_count": 71,
   "metadata": {},
   "outputs": [],
   "source": [
    "# X = data_train.values\n",
    "# test = data_test.values to find y_pred\n",
    "# y = survived_train.values\n",
    "\n",
    "X = data_train.values\n",
    "test = data_test.values\n",
    "y = stay_train.values"
   ]
  },
  {
   "cell_type": "code",
   "execution_count": 72,
   "metadata": {},
   "outputs": [
    {
     "data": {
      "text/plain": [
       "DecisionTreeClassifier(max_depth=3)"
      ]
     },
     "execution_count": 72,
     "metadata": {},
     "output_type": "execute_result"
    }
   ],
   "source": [
    "# Instantiate model and fit to data\n",
    "clf = tree.DecisionTreeClassifier(max_depth=3)\n",
    "clf.fit(X, y)"
   ]
  },
  {
   "cell_type": "code",
   "execution_count": 73,
   "metadata": {},
   "outputs": [],
   "source": [
    "# Make predictions and store in 'Survived' column of df_test\n",
    "Y_pred = clf.predict(test)\n",
    "df_test['Stay'] = Y_pred"
   ]
  },
  {
   "cell_type": "markdown",
   "metadata": {},
   "source": [
    "noww y_test is ready"
   ]
  },
  {
   "cell_type": "code",
   "execution_count": 74,
   "metadata": {},
   "outputs": [
    {
     "name": "stdout",
     "output_type": "stream",
     "text": [
      "(318438, 17)\n",
      "(137057, 17)\n"
     ]
    }
   ],
   "source": [
    "print(df_train.shape)\n",
    "print(df_test.shape)"
   ]
  },
  {
   "cell_type": "code",
   "execution_count": 75,
   "metadata": {},
   "outputs": [],
   "source": [
    "X_train, X_test, y_train, y_test = train_test_split( X, y, test_size=0.33, random_state=42)"
   ]
  },
  {
   "cell_type": "code",
   "execution_count": 76,
   "metadata": {},
   "outputs": [],
   "source": [
    "clf = tree.DecisionTreeClassifier(max_depth=3)\n",
    "\n",
    "    # Fit the classifier to the training data\n",
    "clf.fit(X_train, y_train)\n",
    "y_pred = clf.predict(X_test)"
   ]
  },
  {
   "cell_type": "code",
   "execution_count": 77,
   "metadata": {},
   "outputs": [
    {
     "name": "stdout",
     "output_type": "stream",
     "text": [
      "\n",
      "\n",
      "Confusion Matrix: \n",
      "\n",
      " [[    0  3337  4421     0     0    93     0     0     0     0     0]\n",
      " [    0 12038 11713     0     0  1941     0     0     0     0     3]\n",
      " [    0 10160 17849     0     0   920     0     0     0     0    65]\n",
      " [    0  4495  6851     0     0  6668     0     0     0     0    99]\n",
      " [    0  1245  2056     0     0   496     0     0     0     0    49]\n",
      " [    0  1206  2114     0     0  8008     0     0     0     0   333]\n",
      " [    0   233   396     0     0   238     0     0     0     0    42]\n",
      " [    0   290   539     0     0  2214     0     0     0     0   298]\n",
      " [    0    77    91     0     0  1155     0     0     0     0   271]\n",
      " [    0    67   139     0     0   561     0     0     0     0   134]\n",
      " [    0   152   146     0     0  1024     0     0     0     0   858]]\n",
      "\n",
      "\n",
      "Accuracy : \n",
      "\n",
      " 36.87776561830899\n"
     ]
    },
    {
     "name": "stderr",
     "output_type": "stream",
     "text": [
      "c:\\users\\sheetal\\appdata\\local\\programs\\python\\python37\\lib\\site-packages\\sklearn\\metrics\\_classification.py:1221: UndefinedMetricWarning: Precision and F-score are ill-defined and being set to 0.0 in labels with no predicted samples. Use `zero_division` parameter to control this behavior.\n",
      "  _warn_prf(average, modifier, msg_start, len(result))\n"
     ]
    },
    {
     "name": "stdout",
     "output_type": "stream",
     "text": [
      "\n",
      "\n",
      "Report : \n",
      "\n",
      "                     precision    recall  f1-score   support\n",
      "\n",
      "              0-10       0.00      0.00      0.00      7851\n",
      "             11-20       0.36      0.47      0.41     25695\n",
      "             21-30       0.39      0.62      0.47     28994\n",
      "             31-40       0.00      0.00      0.00     18113\n",
      "             41-50       0.00      0.00      0.00      3846\n",
      "             51-60       0.34      0.69      0.46     11661\n",
      "             61-70       0.00      0.00      0.00       909\n",
      "             71-80       0.00      0.00      0.00      3341\n",
      "             81-90       0.00      0.00      0.00      1594\n",
      "            91-100       0.00      0.00      0.00       901\n",
      "More than 100 Days       0.40      0.39      0.40      2180\n",
      "\n",
      "          accuracy                           0.37    105085\n",
      "         macro avg       0.14      0.20      0.16    105085\n",
      "      weighted avg       0.24      0.37      0.29    105085\n",
      "\n"
     ]
    }
   ],
   "source": [
    "# calculate accuracy\n",
    "\n",
    "from sklearn.metrics import confusion_matrix, accuracy_score, classification_report\n",
    "\n",
    "\n",
    "print(\"\\n\\nConfusion Matrix: \\n\\n\", confusion_matrix(y_test, y_pred))\n",
    "print (\"\\n\\nAccuracy : \\n\\n\", accuracy_score(y_test,y_pred)*100)\n",
    "print(\"\\n\\nReport : \\n\\n\", classification_report(y_test, y_pred))"
   ]
  },
  {
   "cell_type": "code",
   "execution_count": null,
   "metadata": {},
   "outputs": [],
   "source": []
  },
  {
   "cell_type": "code",
   "execution_count": null,
   "metadata": {},
   "outputs": [],
   "source": []
  },
  {
   "cell_type": "code",
   "execution_count": null,
   "metadata": {},
   "outputs": [],
   "source": []
  }
 ],
 "metadata": {
  "kernelspec": {
   "display_name": "Python 3",
   "language": "python",
   "name": "python3"
  },
  "language_info": {
   "codemirror_mode": {
    "name": "ipython",
    "version": 3
   },
   "file_extension": ".py",
   "mimetype": "text/x-python",
   "name": "python",
   "nbconvert_exporter": "python",
   "pygments_lexer": "ipython3",
   "version": "3.7.2"
  }
 },
 "nbformat": 4,
 "nbformat_minor": 2
}
