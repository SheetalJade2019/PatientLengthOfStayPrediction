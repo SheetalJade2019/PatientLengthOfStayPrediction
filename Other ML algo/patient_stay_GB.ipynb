{
 "cells": [
  {
   "cell_type": "code",
   "execution_count": 1,
   "metadata": {},
   "outputs": [],
   "source": [
    "import pandas as pd\n",
    "import numpy as np\n",
    "import seaborn as sns\n",
    "\n",
    "from sklearn import preprocessing\n",
    "from sklearn.model_selection import train_test_split\n",
    "from sklearn.ensemble import GradientBoostingClassifier\n",
    "\n",
    "from matplotlib import pyplot as plt \n",
    "from sklearn.preprocessing import LabelEncoder, RobustScaler, StandardScaler, MinMaxScaler"
   ]
  },
  {
   "cell_type": "code",
   "execution_count": null,
   "metadata": {},
   "outputs": [],
   "source": []
  },
  {
   "cell_type": "code",
   "execution_count": null,
   "metadata": {},
   "outputs": [],
   "source": []
  },
  {
   "cell_type": "code",
   "execution_count": 2,
   "metadata": {},
   "outputs": [],
   "source": [
    "# import ddata\n",
    "df_train = pd.read_csv(\"E:/ML/AISS/patient_stay_2_1310/train_data.csv\")\n",
    "df_test = pd.read_csv(\"E:/ML/AISS/patient_stay_2_1310/test_data.csv\")\n",
    "#df.isnull().sum()\n",
    "#print(df_train.head())"
   ]
  },
  {
   "cell_type": "code",
   "execution_count": 3,
   "metadata": {},
   "outputs": [],
   "source": [
    "label_encoder = preprocessing.LabelEncoder()\n",
    "#df_train['Stay']= label_encoder.fit_transform(df_train['Stay']) "
   ]
  },
  {
   "cell_type": "code",
   "execution_count": 4,
   "metadata": {},
   "outputs": [],
   "source": [
    "stay_train = df_train.Stay"
   ]
  },
  {
   "cell_type": "code",
   "execution_count": 5,
   "metadata": {},
   "outputs": [],
   "source": [
    "X = df_train.drop(\"Stay\", axis=1)\n",
    "y = df_test\n",
    "data = pd.concat([X,y])"
   ]
  },
  {
   "cell_type": "code",
   "execution_count": 6,
   "metadata": {},
   "outputs": [
    {
     "name": "stdout",
     "output_type": "stream",
     "text": [
      "(455495, 17)\n"
     ]
    }
   ],
   "source": [
    "#print(data.dtypes)\n",
    "print(data.shape)"
   ]
  },
  {
   "cell_type": "code",
   "execution_count": 7,
   "metadata": {},
   "outputs": [
    {
     "data": {
      "text/html": [
       "<div>\n",
       "<style scoped>\n",
       "    .dataframe tbody tr th:only-of-type {\n",
       "        vertical-align: middle;\n",
       "    }\n",
       "\n",
       "    .dataframe tbody tr th {\n",
       "        vertical-align: top;\n",
       "    }\n",
       "\n",
       "    .dataframe thead th {\n",
       "        text-align: right;\n",
       "    }\n",
       "</style>\n",
       "<table border=\"1\" class=\"dataframe\">\n",
       "  <thead>\n",
       "    <tr style=\"text-align: right;\">\n",
       "      <th></th>\n",
       "      <th>case_id</th>\n",
       "      <th>Hospital_code</th>\n",
       "      <th>Hospital_type_code</th>\n",
       "      <th>City_Code_Hospital</th>\n",
       "      <th>Hospital_region_code</th>\n",
       "      <th>Available Extra Rooms in Hospital</th>\n",
       "      <th>Department</th>\n",
       "      <th>Ward_Type</th>\n",
       "      <th>Ward_Facility_Code</th>\n",
       "      <th>Bed Grade</th>\n",
       "      <th>patientid</th>\n",
       "      <th>City_Code_Patient</th>\n",
       "      <th>Type of Admission</th>\n",
       "      <th>Severity of Illness</th>\n",
       "      <th>Visitors with Patient</th>\n",
       "      <th>Age</th>\n",
       "      <th>Admission_Deposit</th>\n",
       "    </tr>\n",
       "  </thead>\n",
       "  <tbody>\n",
       "    <tr>\n",
       "      <th>0</th>\n",
       "      <td>1</td>\n",
       "      <td>8</td>\n",
       "      <td>c</td>\n",
       "      <td>3</td>\n",
       "      <td>Z</td>\n",
       "      <td>3</td>\n",
       "      <td>radiotherapy</td>\n",
       "      <td>R</td>\n",
       "      <td>F</td>\n",
       "      <td>2.0</td>\n",
       "      <td>31397</td>\n",
       "      <td>7.0</td>\n",
       "      <td>Emergency</td>\n",
       "      <td>Extreme</td>\n",
       "      <td>2</td>\n",
       "      <td>51-60</td>\n",
       "      <td>4911.0</td>\n",
       "    </tr>\n",
       "    <tr>\n",
       "      <th>1</th>\n",
       "      <td>2</td>\n",
       "      <td>2</td>\n",
       "      <td>c</td>\n",
       "      <td>5</td>\n",
       "      <td>Z</td>\n",
       "      <td>2</td>\n",
       "      <td>radiotherapy</td>\n",
       "      <td>S</td>\n",
       "      <td>F</td>\n",
       "      <td>2.0</td>\n",
       "      <td>31397</td>\n",
       "      <td>7.0</td>\n",
       "      <td>Trauma</td>\n",
       "      <td>Extreme</td>\n",
       "      <td>2</td>\n",
       "      <td>51-60</td>\n",
       "      <td>5954.0</td>\n",
       "    </tr>\n",
       "    <tr>\n",
       "      <th>2</th>\n",
       "      <td>3</td>\n",
       "      <td>10</td>\n",
       "      <td>e</td>\n",
       "      <td>1</td>\n",
       "      <td>X</td>\n",
       "      <td>2</td>\n",
       "      <td>anesthesia</td>\n",
       "      <td>S</td>\n",
       "      <td>E</td>\n",
       "      <td>2.0</td>\n",
       "      <td>31397</td>\n",
       "      <td>7.0</td>\n",
       "      <td>Trauma</td>\n",
       "      <td>Extreme</td>\n",
       "      <td>2</td>\n",
       "      <td>51-60</td>\n",
       "      <td>4745.0</td>\n",
       "    </tr>\n",
       "  </tbody>\n",
       "</table>\n",
       "</div>"
      ],
      "text/plain": [
       "   case_id  Hospital_code Hospital_type_code  City_Code_Hospital  \\\n",
       "0        1              8                  c                   3   \n",
       "1        2              2                  c                   5   \n",
       "2        3             10                  e                   1   \n",
       "\n",
       "  Hospital_region_code  Available Extra Rooms in Hospital    Department  \\\n",
       "0                    Z                                  3  radiotherapy   \n",
       "1                    Z                                  2  radiotherapy   \n",
       "2                    X                                  2    anesthesia   \n",
       "\n",
       "  Ward_Type Ward_Facility_Code  Bed Grade  patientid  City_Code_Patient  \\\n",
       "0         R                  F        2.0      31397                7.0   \n",
       "1         S                  F        2.0      31397                7.0   \n",
       "2         S                  E        2.0      31397                7.0   \n",
       "\n",
       "  Type of Admission Severity of Illness  Visitors with Patient    Age  \\\n",
       "0         Emergency             Extreme                      2  51-60   \n",
       "1            Trauma             Extreme                      2  51-60   \n",
       "2            Trauma             Extreme                      2  51-60   \n",
       "\n",
       "   Admission_Deposit  \n",
       "0             4911.0  \n",
       "1             5954.0  \n",
       "2             4745.0  "
      ]
     },
     "execution_count": 7,
     "metadata": {},
     "output_type": "execute_result"
    }
   ],
   "source": [
    "data.head(3)"
   ]
  },
  {
   "cell_type": "code",
   "execution_count": 8,
   "metadata": {},
   "outputs": [
    {
     "name": "stdout",
     "output_type": "stream",
     "text": [
      "(455495, 17)\n"
     ]
    }
   ],
   "source": [
    "# rename columns\n",
    "original_col = data.columns\n",
    "new_col = ['case_id','Hospital_code','Hospital_type_code','City_Code_Hospital','Hospital_region_code','Available_Extra_Rooms_in_Hospital','Department','Ward_Type','Ward_Facility_Code','Bed_Grade','patientid','City_Code_Patient','Type_of_Admission','Severity_of_Illness','Visitors_with_Patient','Age','Admission_Deposit']                                                                                                               \n",
    "data =data.rename(columns=dict(zip(original_col, \n",
    "new_col)))\n",
    "#data.head()\n",
    "print(data.shape)\n",
    "#print(data.head())"
   ]
  },
  {
   "cell_type": "code",
   "execution_count": 9,
   "metadata": {},
   "outputs": [
    {
     "name": "stdout",
     "output_type": "stream",
     "text": [
      "<class 'pandas.core.frame.DataFrame'>\n",
      "Int64Index: 455495 entries, 0 to 137056\n",
      "Data columns (total 17 columns):\n",
      "case_id                              455495 non-null int64\n",
      "Hospital_code                        455495 non-null int64\n",
      "Hospital_type_code                   455495 non-null object\n",
      "City_Code_Hospital                   455495 non-null int64\n",
      "Hospital_region_code                 455495 non-null object\n",
      "Available_Extra_Rooms_in_Hospital    455495 non-null int64\n",
      "Department                           455495 non-null object\n",
      "Ward_Type                            455495 non-null object\n",
      "Ward_Facility_Code                   455495 non-null object\n",
      "Bed_Grade                            455347 non-null float64\n",
      "patientid                            455495 non-null int64\n",
      "City_Code_Patient                    448806 non-null float64\n",
      "Type_of_Admission                    455495 non-null object\n",
      "Severity_of_Illness                  455495 non-null object\n",
      "Visitors_with_Patient                455495 non-null int64\n",
      "Age                                  455495 non-null object\n",
      "Admission_Deposit                    455495 non-null float64\n",
      "dtypes: float64(3), int64(6), object(8)\n",
      "memory usage: 62.6+ MB\n"
     ]
    }
   ],
   "source": [
    "data.info()"
   ]
  },
  {
   "cell_type": "code",
   "execution_count": 10,
   "metadata": {},
   "outputs": [
    {
     "data": {
      "text/plain": [
       "case_id                                 0\n",
       "Hospital_code                           0\n",
       "Hospital_type_code                      0\n",
       "City_Code_Hospital                      0\n",
       "Hospital_region_code                    0\n",
       "Available_Extra_Rooms_in_Hospital       0\n",
       "Department                              0\n",
       "Ward_Type                               0\n",
       "Ward_Facility_Code                      0\n",
       "Bed_Grade                             148\n",
       "patientid                               0\n",
       "City_Code_Patient                    6689\n",
       "Type_of_Admission                       0\n",
       "Severity_of_Illness                     0\n",
       "Visitors_with_Patient                   0\n",
       "Age                                     0\n",
       "Admission_Deposit                       0\n",
       "dtype: int64"
      ]
     },
     "execution_count": 10,
     "metadata": {},
     "output_type": "execute_result"
    }
   ],
   "source": [
    "# check missing values\n",
    "data.isnull().sum()\n",
    "#df.Hospital_code.count()"
   ]
  },
  {
   "cell_type": "code",
   "execution_count": 11,
   "metadata": {},
   "outputs": [
    {
     "name": "stdout",
     "output_type": "stream",
     "text": [
      "0    2.0\n",
      "dtype: float64\n"
     ]
    }
   ],
   "source": [
    "mode_bed_grade = data.Bed_Grade.mode()\n",
    "data.Bed_Grade = data.Bed_Grade.fillna(2.0)\n",
    "print(data.Bed_Grade.mode())"
   ]
  },
  {
   "cell_type": "code",
   "execution_count": 12,
   "metadata": {},
   "outputs": [
    {
     "name": "stdout",
     "output_type": "stream",
     "text": [
      "0    8.0\n",
      "dtype: float64\n"
     ]
    }
   ],
   "source": [
    "print(data.City_Code_Patient.mode())\n",
    "data.City_Code_Patient = data.City_Code_Patient.fillna(8.0)"
   ]
  },
  {
   "cell_type": "code",
   "execution_count": 13,
   "metadata": {},
   "outputs": [
    {
     "data": {
      "text/plain": [
       "case_id                              0\n",
       "Hospital_code                        0\n",
       "Hospital_type_code                   0\n",
       "City_Code_Hospital                   0\n",
       "Hospital_region_code                 0\n",
       "Available_Extra_Rooms_in_Hospital    0\n",
       "Department                           0\n",
       "Ward_Type                            0\n",
       "Ward_Facility_Code                   0\n",
       "Bed_Grade                            0\n",
       "patientid                            0\n",
       "City_Code_Patient                    0\n",
       "Type_of_Admission                    0\n",
       "Severity_of_Illness                  0\n",
       "Visitors_with_Patient                0\n",
       "Age                                  0\n",
       "Admission_Deposit                    0\n",
       "dtype: int64"
      ]
     },
     "execution_count": 13,
     "metadata": {},
     "output_type": "execute_result"
    }
   ],
   "source": [
    "#df.info()\n",
    "data.isnull().sum()"
   ]
  },
  {
   "cell_type": "markdown",
   "metadata": {},
   "source": [
    "Missing values replaced by mode values in \n",
    "\n",
    "        Bed_Grade \n",
    "        City_Code_Patient "
   ]
  },
  {
   "cell_type": "code",
   "execution_count": 14,
   "metadata": {},
   "outputs": [
    {
     "data": {
      "text/plain": [
       "(455495, 17)"
      ]
     },
     "execution_count": 14,
     "metadata": {},
     "output_type": "execute_result"
    }
   ],
   "source": [
    "data.shape"
   ]
  },
  {
   "cell_type": "code",
   "execution_count": 15,
   "metadata": {},
   "outputs": [
    {
     "name": "stderr",
     "output_type": "stream",
     "text": [
      "c:\\users\\sheetal\\appdata\\local\\programs\\python\\python37\\lib\\site-packages\\IPython\\core\\interactiveshell.py:3296: UserWarning: To output multiple subplots, the figure containing the passed axes is being cleared\n",
      "  exec(code_obj, self.user_global_ns, self.user_ns)\n"
     ]
    },
    {
     "data": {
      "image/png": "[encoded data removed]",
      "text/plain": [
       "<Figure size 3600x3600 with 9 Axes>"
      ]
     },
     "metadata": {
      "needs_background": "light"
     },
     "output_type": "display_data"
    }
   ],
   "source": [
    "fig_dims = (50, 50)\n",
    "fig, ax = plt.subplots(figsize=fig_dims)\n",
    "\n",
    "#sns.countplot(x=\"City_Code_Patient\",ax=ax, data=data)\n",
    "hist = data.hist(bins=20, ax=ax) \n",
    "plt.savefig(\"hist.png\")\n",
    "plt.show()\n",
    "plt.close()"
   ]
  },
  {
   "cell_type": "code",
   "execution_count": 16,
   "metadata": {},
   "outputs": [
    {
     "name": "stdout",
     "output_type": "stream",
     "text": [
      "455495 455495\n"
     ]
    }
   ],
   "source": [
    "arr = data[\"case_id\"].unique()   \n",
    "# storing unique value in a variable \n",
    "unique_value = data[\"case_id\"].nunique(dropna = True) \n",
    "print(len(arr), unique_value)"
   ]
  },
  {
   "cell_type": "code",
   "execution_count": 17,
   "metadata": {},
   "outputs": [
    {
     "data": {
      "text/plain": [
       "case_id                                int64\n",
       "Hospital_code                          int64\n",
       "Hospital_type_code                    object\n",
       "City_Code_Hospital                     int64\n",
       "Hospital_region_code                  object\n",
       "Available_Extra_Rooms_in_Hospital      int64\n",
       "Department                            object\n",
       "Ward_Type                             object\n",
       "Ward_Facility_Code                    object\n",
       "Bed_Grade                            float64\n",
       "patientid                              int64\n",
       "City_Code_Patient                    float64\n",
       "Type_of_Admission                     object\n",
       "Severity_of_Illness                   object\n",
       "Visitors_with_Patient                  int64\n",
       "Age                                   object\n",
       "Admission_Deposit                    float64\n",
       "dtype: object"
      ]
     },
     "execution_count": 17,
     "metadata": {},
     "output_type": "execute_result"
    }
   ],
   "source": [
    "#data.info()\n",
    "data.dtypes"
   ]
  },
  {
   "cell_type": "code",
   "execution_count": 18,
   "metadata": {},
   "outputs": [
    {
     "name": "stdout",
     "output_type": "stream",
     "text": [
      "case_id                              0\n",
      "Hospital_code                        0\n",
      "Hospital_type_code                   0\n",
      "City_Code_Hospital                   0\n",
      "Hospital_region_code                 0\n",
      "Available_Extra_Rooms_in_Hospital    0\n",
      "Department                           0\n",
      "Ward_Type                            0\n",
      "Ward_Facility_Code                   0\n",
      "Bed_Grade                            0\n",
      "patientid                            0\n",
      "City_Code_Patient                    0\n",
      "Type_of_Admission                    0\n",
      "Severity_of_Illness                  0\n",
      "Visitors_with_Patient                0\n",
      "Age                                  0\n",
      "Admission_Deposit                    0\n",
      "dtype: int64\n"
     ]
    }
   ],
   "source": [
    "#df.shape\n",
    "print(data.isnull().sum())\n",
    "#df.head()\n",
    "#data.info()"
   ]
  },
  {
   "cell_type": "code",
   "execution_count": 19,
   "metadata": {},
   "outputs": [
    {
     "data": {
      "text/plain": [
       "case_id                               int64\n",
       "Hospital_code                         int64\n",
       "Hospital_type_code                   object\n",
       "City_Code_Hospital                    int64\n",
       "Hospital_region_code                 object\n",
       "Available_Extra_Rooms_in_Hospital     int64\n",
       "Department                           object\n",
       "Ward_Type                            object\n",
       "Ward_Facility_Code                   object\n",
       "Bed_Grade                             int32\n",
       "patientid                             int64\n",
       "City_Code_Patient                     int32\n",
       "Type_of_Admission                    object\n",
       "Severity_of_Illness                  object\n",
       "Visitors_with_Patient                 int64\n",
       "Age                                  object\n",
       "Admission_Deposit                     int32\n",
       "dtype: object"
      ]
     },
     "execution_count": 19,
     "metadata": {},
     "output_type": "execute_result"
    }
   ],
   "source": [
    "data = data.astype({\"Admission_Deposit\":'int', \"City_Code_Patient\":'int',\"Bed_Grade\":'int'})  \n",
    "data.dtypes"
   ]
  },
  {
   "cell_type": "code",
   "execution_count": 20,
   "metadata": {},
   "outputs": [],
   "source": [
    "#scaler = RobustScaler()\n",
    "#scaler = RobustScaler()\n",
    "scaler = MinMaxScaler()\n",
    "data[[\"Available_Extra_Rooms_in_Hospital\",\"City_Code_Patient\",\"Visitors_with_Patient\",\"Admission_Deposit\"]] =scaler.fit_transform(data[[\"Available_Extra_Rooms_in_Hospital\",\"City_Code_Patient\",\"Visitors_with_Patient\",\"Admission_Deposit\"]])"
   ]
  },
  {
   "cell_type": "code",
   "execution_count": 21,
   "metadata": {},
   "outputs": [
    {
     "name": "stderr",
     "output_type": "stream",
     "text": [
      "c:\\users\\sheetal\\appdata\\local\\programs\\python\\python37\\lib\\site-packages\\IPython\\core\\interactiveshell.py:3296: UserWarning: To output multiple subplots, the figure containing the passed axes is being cleared\n",
      "  exec(code_obj, self.user_global_ns, self.user_ns)\n"
     ]
    },
    {
     "data": {
      "image/png": "[encoded data removed]",
      "text/plain": [
       "<Figure size 3600x3600 with 9 Axes>"
      ]
     },
     "metadata": {
      "needs_background": "light"
     },
     "output_type": "display_data"
    }
   ],
   "source": [
    "fig_dims = (50, 50)\n",
    "fig, ax = plt.subplots(figsize=fig_dims)\n",
    "hist = data.hist(bins=20, ax=ax) \n",
    "plt.savefig(\"hist_after_scale.png\")\n",
    "plt.show()\n",
    "plt.close()"
   ]
  },
  {
   "cell_type": "code",
   "execution_count": 22,
   "metadata": {},
   "outputs": [
    {
     "name": "stdout",
     "output_type": "stream",
     "text": [
      "[     1      2      3 ... 455493 455494 455495]\n"
     ]
    },
    {
     "data": {
      "text/plain": [
       "array([     0,      1,      2, ..., 455492, 455493, 455494], dtype=int64)"
      ]
     },
     "execution_count": 22,
     "metadata": {},
     "output_type": "execute_result"
    }
   ],
   "source": [
    "# Encode labels in column 'Department'.\n",
    "cid = data['case_id'].unique()\n",
    "cid.sort()\n",
    "print(cid)\n",
    "data['case_id']= label_encoder.fit_transform(data['case_id']) \n",
    "data['case_id'].unique()"
   ]
  },
  {
   "cell_type": "code",
   "execution_count": 23,
   "metadata": {},
   "outputs": [
    {
     "data": {
      "text/plain": [
       "array([3, 1, 2, 0, 4], dtype=int64)"
      ]
     },
     "execution_count": 23,
     "metadata": {},
     "output_type": "execute_result"
    }
   ],
   "source": [
    "data['Department']= label_encoder.fit_transform(data['Department']) \n",
    "data['Department'].unique()"
   ]
  },
  {
   "cell_type": "code",
   "execution_count": 24,
   "metadata": {},
   "outputs": [
    {
     "data": {
      "text/plain": [
       "array([2, 3, 1, 0, 4, 5], dtype=int64)"
      ]
     },
     "execution_count": 24,
     "metadata": {},
     "output_type": "execute_result"
    }
   ],
   "source": [
    "data['Ward_Type']= label_encoder.fit_transform(data['Ward_Type']) \n",
    "data['Ward_Type'].unique()"
   ]
  },
  {
   "cell_type": "code",
   "execution_count": 25,
   "metadata": {},
   "outputs": [
    {
     "data": {
      "text/plain": [
       "array([5, 4, 3, 1, 0, 2], dtype=int64)"
      ]
     },
     "execution_count": 25,
     "metadata": {},
     "output_type": "execute_result"
    }
   ],
   "source": [
    "data['Ward_Facility_Code']= label_encoder.fit_transform(data['Ward_Facility_Code']) \n",
    "data['Ward_Facility_Code'].unique()"
   ]
  },
  {
   "cell_type": "code",
   "execution_count": 26,
   "metadata": {},
   "outputs": [
    {
     "data": {
      "text/plain": [
       "array([0, 1, 2], dtype=int64)"
      ]
     },
     "execution_count": 26,
     "metadata": {},
     "output_type": "execute_result"
    }
   ],
   "source": [
    "data['Type_of_Admission']= label_encoder.fit_transform(data['Type_of_Admission']) \n",
    "data['Type_of_Admission'].unique()"
   ]
  },
  {
   "cell_type": "code",
   "execution_count": 27,
   "metadata": {},
   "outputs": [
    {
     "data": {
      "text/plain": [
       "array([0, 2, 1], dtype=int64)"
      ]
     },
     "execution_count": 27,
     "metadata": {},
     "output_type": "execute_result"
    }
   ],
   "source": [
    "data['Severity_of_Illness']= label_encoder.fit_transform(data['Severity_of_Illness']) \n",
    "data['Severity_of_Illness'].unique()"
   ]
  },
  {
   "cell_type": "code",
   "execution_count": 28,
   "metadata": {},
   "outputs": [
    {
     "data": {
      "text/plain": [
       "array([5, 7, 3, 4, 8, 6, 2, 1, 0, 9], dtype=int64)"
      ]
     },
     "execution_count": 28,
     "metadata": {},
     "output_type": "execute_result"
    }
   ],
   "source": [
    "data['Age']= label_encoder.fit_transform(data['Age']) \n",
    "data['Age'].unique()"
   ]
  },
  {
   "cell_type": "code",
   "execution_count": 29,
   "metadata": {},
   "outputs": [
    {
     "data": {
      "text/plain": [
       "array([2, 4, 1, 0, 5, 3, 6], dtype=int64)"
      ]
     },
     "execution_count": 29,
     "metadata": {},
     "output_type": "execute_result"
    }
   ],
   "source": [
    "data['Hospital_type_code']= label_encoder.fit_transform(data['Hospital_type_code']) \n",
    "data['Hospital_type_code'].unique()"
   ]
  },
  {
   "cell_type": "code",
   "execution_count": 30,
   "metadata": {},
   "outputs": [
    {
     "data": {
      "text/plain": [
       "array([2, 0, 1], dtype=int64)"
      ]
     },
     "execution_count": 30,
     "metadata": {},
     "output_type": "execute_result"
    }
   ],
   "source": [
    "data['Hospital_region_code']= label_encoder.fit_transform(data['Hospital_region_code']) \n",
    "data['Hospital_region_code'].unique()"
   ]
  },
  {
   "cell_type": "code",
   "execution_count": 31,
   "metadata": {},
   "outputs": [
    {
     "data": {
      "text/plain": [
       "array([1, 2, 3, 0], dtype=int64)"
      ]
     },
     "execution_count": 31,
     "metadata": {},
     "output_type": "execute_result"
    }
   ],
   "source": [
    "data['Bed_Grade']= label_encoder.fit_transform(data['Bed_Grade']) \n",
    "data['Bed_Grade'].unique()"
   ]
  },
  {
   "cell_type": "code",
   "execution_count": 32,
   "metadata": {},
   "outputs": [
    {
     "data": {
      "text/plain": [
       "array([ 2,  4,  0,  1,  5,  7,  8,  3,  9,  6, 10], dtype=int64)"
      ]
     },
     "execution_count": 32,
     "metadata": {},
     "output_type": "execute_result"
    }
   ],
   "source": [
    "data['City_Code_Hospital']= label_encoder.fit_transform(data['City_Code_Hospital']) \n",
    "data['City_Code_Hospital'].unique()"
   ]
  },
  {
   "cell_type": "code",
   "execution_count": 33,
   "metadata": {},
   "outputs": [
    {
     "name": "stdout",
     "output_type": "stream",
     "text": [
      "[0.30741107 0.41047431 0.29100791 ... 0.01086957 0.67549407 0.70642292]\n"
     ]
    }
   ],
   "source": [
    "print(data['Admission_Deposit'].unique())"
   ]
  },
  {
   "cell_type": "code",
   "execution_count": 34,
   "metadata": {},
   "outputs": [
    {
     "data": {
      "text/plain": [
       "array([ 7,  1,  9, 25, 22, 31,  0, 21, 15,  8,  5, 28, 11,  2, 20, 27, 26,\n",
       "       18,  4, 13, 12, 30, 23, 16, 24, 14, 10, 29, 17,  3,  6, 19],\n",
       "      dtype=int64)"
      ]
     },
     "execution_count": 34,
     "metadata": {},
     "output_type": "execute_result"
    }
   ],
   "source": [
    "data['Hospital_code']= label_encoder.fit_transform(data['Hospital_code']) \n",
    "data['Hospital_code'].unique()"
   ]
  },
  {
   "cell_type": "code",
   "execution_count": 35,
   "metadata": {},
   "outputs": [
    {
     "data": {
      "text/html": [
       "<div>\n",
       "<style scoped>\n",
       "    .dataframe tbody tr th:only-of-type {\n",
       "        vertical-align: middle;\n",
       "    }\n",
       "\n",
       "    .dataframe tbody tr th {\n",
       "        vertical-align: top;\n",
       "    }\n",
       "\n",
       "    .dataframe thead th {\n",
       "        text-align: right;\n",
       "    }\n",
       "</style>\n",
       "<table border=\"1\" class=\"dataframe\">\n",
       "  <thead>\n",
       "    <tr style=\"text-align: right;\">\n",
       "      <th></th>\n",
       "      <th>case_id</th>\n",
       "      <th>Hospital_code</th>\n",
       "      <th>Hospital_type_code</th>\n",
       "      <th>City_Code_Hospital</th>\n",
       "      <th>Hospital_region_code</th>\n",
       "      <th>Available_Extra_Rooms_in_Hospital</th>\n",
       "      <th>Department</th>\n",
       "      <th>Ward_Type</th>\n",
       "      <th>Ward_Facility_Code</th>\n",
       "      <th>Bed_Grade</th>\n",
       "      <th>patientid</th>\n",
       "      <th>City_Code_Patient</th>\n",
       "      <th>Type_of_Admission</th>\n",
       "      <th>Severity_of_Illness</th>\n",
       "      <th>Visitors_with_Patient</th>\n",
       "      <th>Age</th>\n",
       "      <th>Admission_Deposit</th>\n",
       "    </tr>\n",
       "  </thead>\n",
       "  <tbody>\n",
       "    <tr>\n",
       "      <th>0</th>\n",
       "      <td>0</td>\n",
       "      <td>7</td>\n",
       "      <td>2</td>\n",
       "      <td>2</td>\n",
       "      <td>2</td>\n",
       "      <td>0.125000</td>\n",
       "      <td>3</td>\n",
       "      <td>2</td>\n",
       "      <td>5</td>\n",
       "      <td>1</td>\n",
       "      <td>31397</td>\n",
       "      <td>0.162162</td>\n",
       "      <td>0</td>\n",
       "      <td>0</td>\n",
       "      <td>0.0625</td>\n",
       "      <td>5</td>\n",
       "      <td>0.307411</td>\n",
       "    </tr>\n",
       "    <tr>\n",
       "      <th>1</th>\n",
       "      <td>1</td>\n",
       "      <td>1</td>\n",
       "      <td>2</td>\n",
       "      <td>4</td>\n",
       "      <td>2</td>\n",
       "      <td>0.083333</td>\n",
       "      <td>3</td>\n",
       "      <td>3</td>\n",
       "      <td>5</td>\n",
       "      <td>1</td>\n",
       "      <td>31397</td>\n",
       "      <td>0.162162</td>\n",
       "      <td>1</td>\n",
       "      <td>0</td>\n",
       "      <td>0.0625</td>\n",
       "      <td>5</td>\n",
       "      <td>0.410474</td>\n",
       "    </tr>\n",
       "    <tr>\n",
       "      <th>2</th>\n",
       "      <td>2</td>\n",
       "      <td>9</td>\n",
       "      <td>4</td>\n",
       "      <td>0</td>\n",
       "      <td>0</td>\n",
       "      <td>0.083333</td>\n",
       "      <td>1</td>\n",
       "      <td>3</td>\n",
       "      <td>4</td>\n",
       "      <td>1</td>\n",
       "      <td>31397</td>\n",
       "      <td>0.162162</td>\n",
       "      <td>1</td>\n",
       "      <td>0</td>\n",
       "      <td>0.0625</td>\n",
       "      <td>5</td>\n",
       "      <td>0.291008</td>\n",
       "    </tr>\n",
       "    <tr>\n",
       "      <th>3</th>\n",
       "      <td>3</td>\n",
       "      <td>25</td>\n",
       "      <td>1</td>\n",
       "      <td>1</td>\n",
       "      <td>1</td>\n",
       "      <td>0.083333</td>\n",
       "      <td>3</td>\n",
       "      <td>2</td>\n",
       "      <td>3</td>\n",
       "      <td>1</td>\n",
       "      <td>31397</td>\n",
       "      <td>0.162162</td>\n",
       "      <td>1</td>\n",
       "      <td>0</td>\n",
       "      <td>0.0625</td>\n",
       "      <td>5</td>\n",
       "      <td>0.540711</td>\n",
       "    </tr>\n",
       "    <tr>\n",
       "      <th>4</th>\n",
       "      <td>4</td>\n",
       "      <td>25</td>\n",
       "      <td>1</td>\n",
       "      <td>1</td>\n",
       "      <td>1</td>\n",
       "      <td>0.083333</td>\n",
       "      <td>3</td>\n",
       "      <td>3</td>\n",
       "      <td>3</td>\n",
       "      <td>1</td>\n",
       "      <td>31397</td>\n",
       "      <td>0.162162</td>\n",
       "      <td>1</td>\n",
       "      <td>0</td>\n",
       "      <td>0.0625</td>\n",
       "      <td>5</td>\n",
       "      <td>0.371344</td>\n",
       "    </tr>\n",
       "  </tbody>\n",
       "</table>\n",
       "</div>"
      ],
      "text/plain": [
       "   case_id  Hospital_code  Hospital_type_code  City_Code_Hospital  \\\n",
       "0        0              7                   2                   2   \n",
       "1        1              1                   2                   4   \n",
       "2        2              9                   4                   0   \n",
       "3        3             25                   1                   1   \n",
       "4        4             25                   1                   1   \n",
       "\n",
       "   Hospital_region_code  Available_Extra_Rooms_in_Hospital  Department  \\\n",
       "0                     2                           0.125000           3   \n",
       "1                     2                           0.083333           3   \n",
       "2                     0                           0.083333           1   \n",
       "3                     1                           0.083333           3   \n",
       "4                     1                           0.083333           3   \n",
       "\n",
       "   Ward_Type  Ward_Facility_Code  Bed_Grade  patientid  City_Code_Patient  \\\n",
       "0          2                   5          1      31397           0.162162   \n",
       "1          3                   5          1      31397           0.162162   \n",
       "2          3                   4          1      31397           0.162162   \n",
       "3          2                   3          1      31397           0.162162   \n",
       "4          3                   3          1      31397           0.162162   \n",
       "\n",
       "   Type_of_Admission  Severity_of_Illness  Visitors_with_Patient  Age  \\\n",
       "0                  0                    0                 0.0625    5   \n",
       "1                  1                    0                 0.0625    5   \n",
       "2                  1                    0                 0.0625    5   \n",
       "3                  1                    0                 0.0625    5   \n",
       "4                  1                    0                 0.0625    5   \n",
       "\n",
       "   Admission_Deposit  \n",
       "0           0.307411  \n",
       "1           0.410474  \n",
       "2           0.291008  \n",
       "3           0.540711  \n",
       "4           0.371344  "
      ]
     },
     "execution_count": 35,
     "metadata": {},
     "output_type": "execute_result"
    }
   ],
   "source": [
    "data.head()"
   ]
  },
  {
   "cell_type": "code",
   "execution_count": 36,
   "metadata": {},
   "outputs": [
    {
     "data": {
      "text/html": [
       "<div>\n",
       "<style scoped>\n",
       "    .dataframe tbody tr th:only-of-type {\n",
       "        vertical-align: middle;\n",
       "    }\n",
       "\n",
       "    .dataframe tbody tr th {\n",
       "        vertical-align: top;\n",
       "    }\n",
       "\n",
       "    .dataframe thead th {\n",
       "        text-align: right;\n",
       "    }\n",
       "</style>\n",
       "<table border=\"1\" class=\"dataframe\">\n",
       "  <thead>\n",
       "    <tr style=\"text-align: right;\">\n",
       "      <th></th>\n",
       "      <th>case_id</th>\n",
       "      <th>Hospital_code</th>\n",
       "      <th>Hospital_type_code</th>\n",
       "      <th>City_Code_Hospital</th>\n",
       "      <th>Hospital_region_code</th>\n",
       "      <th>Available_Extra_Rooms_in_Hospital</th>\n",
       "      <th>Department</th>\n",
       "      <th>Ward_Type</th>\n",
       "      <th>Ward_Facility_Code</th>\n",
       "      <th>Bed_Grade</th>\n",
       "      <th>patientid</th>\n",
       "      <th>City_Code_Patient</th>\n",
       "      <th>Type_of_Admission</th>\n",
       "      <th>Severity_of_Illness</th>\n",
       "      <th>Visitors_with_Patient</th>\n",
       "      <th>Age</th>\n",
       "      <th>Admission_Deposit</th>\n",
       "    </tr>\n",
       "  </thead>\n",
       "  <tbody>\n",
       "    <tr>\n",
       "      <th>count</th>\n",
       "      <td>455495.00000</td>\n",
       "      <td>455495.000000</td>\n",
       "      <td>455495.000000</td>\n",
       "      <td>455495.000000</td>\n",
       "      <td>455495.000000</td>\n",
       "      <td>455495.000000</td>\n",
       "      <td>455495.000000</td>\n",
       "      <td>455495.000000</td>\n",
       "      <td>455495.000000</td>\n",
       "      <td>455495.000000</td>\n",
       "      <td>455495.000000</td>\n",
       "      <td>455495.000000</td>\n",
       "      <td>455495.000000</td>\n",
       "      <td>455495.000000</td>\n",
       "      <td>455495.000000</td>\n",
       "      <td>455495.000000</td>\n",
       "      <td>455495.000000</td>\n",
       "    </tr>\n",
       "    <tr>\n",
       "      <th>mean</th>\n",
       "      <td>227747.00000</td>\n",
       "      <td>17.326335</td>\n",
       "      <td>1.256501</td>\n",
       "      <td>3.592349</td>\n",
       "      <td>0.778461</td>\n",
       "      <td>0.133173</td>\n",
       "      <td>1.944024</td>\n",
       "      <td>1.888087</td>\n",
       "      <td>3.286956</td>\n",
       "      <td>1.628215</td>\n",
       "      <td>65786.793563</td>\n",
       "      <td>0.169203</td>\n",
       "      <td>0.782867</td>\n",
       "      <td>1.374033</td>\n",
       "      <td>0.102632</td>\n",
       "      <td>4.126757</td>\n",
       "      <td>0.304094</td>\n",
       "    </tr>\n",
       "    <tr>\n",
       "      <th>std</th>\n",
       "      <td>131490.22477</td>\n",
       "      <td>8.634036</td>\n",
       "      <td>1.532773</td>\n",
       "      <td>2.806344</td>\n",
       "      <td>0.753238</td>\n",
       "      <td>0.048625</td>\n",
       "      <td>0.561536</td>\n",
       "      <td>0.804688</td>\n",
       "      <td>1.689726</td>\n",
       "      <td>0.871929</td>\n",
       "      <td>37968.830850</td>\n",
       "      <td>0.127695</td>\n",
       "      <td>0.689184</td>\n",
       "      <td>0.768535</td>\n",
       "      <td>0.055251</td>\n",
       "      <td>1.889698</td>\n",
       "      <td>0.107212</td>\n",
       "    </tr>\n",
       "    <tr>\n",
       "      <th>min</th>\n",
       "      <td>0.00000</td>\n",
       "      <td>0.000000</td>\n",
       "      <td>0.000000</td>\n",
       "      <td>0.000000</td>\n",
       "      <td>0.000000</td>\n",
       "      <td>0.000000</td>\n",
       "      <td>0.000000</td>\n",
       "      <td>0.000000</td>\n",
       "      <td>0.000000</td>\n",
       "      <td>0.000000</td>\n",
       "      <td>1.000000</td>\n",
       "      <td>0.000000</td>\n",
       "      <td>0.000000</td>\n",
       "      <td>0.000000</td>\n",
       "      <td>0.000000</td>\n",
       "      <td>0.000000</td>\n",
       "      <td>0.000000</td>\n",
       "    </tr>\n",
       "    <tr>\n",
       "      <th>25%</th>\n",
       "      <td>113873.50000</td>\n",
       "      <td>10.000000</td>\n",
       "      <td>0.000000</td>\n",
       "      <td>1.000000</td>\n",
       "      <td>0.000000</td>\n",
       "      <td>0.083333</td>\n",
       "      <td>2.000000</td>\n",
       "      <td>1.000000</td>\n",
       "      <td>2.000000</td>\n",
       "      <td>1.000000</td>\n",
       "      <td>32874.000000</td>\n",
       "      <td>0.081081</td>\n",
       "      <td>0.000000</td>\n",
       "      <td>1.000000</td>\n",
       "      <td>0.062500</td>\n",
       "      <td>3.000000</td>\n",
       "      <td>0.235573</td>\n",
       "    </tr>\n",
       "    <tr>\n",
       "      <th>50%</th>\n",
       "      <td>227747.00000</td>\n",
       "      <td>18.000000</td>\n",
       "      <td>1.000000</td>\n",
       "      <td>4.000000</td>\n",
       "      <td>1.000000</td>\n",
       "      <td>0.125000</td>\n",
       "      <td>2.000000</td>\n",
       "      <td>2.000000</td>\n",
       "      <td>4.000000</td>\n",
       "      <td>2.000000</td>\n",
       "      <td>65735.000000</td>\n",
       "      <td>0.189189</td>\n",
       "      <td>1.000000</td>\n",
       "      <td>2.000000</td>\n",
       "      <td>0.093750</td>\n",
       "      <td>4.000000</td>\n",
       "      <td>0.290316</td>\n",
       "    </tr>\n",
       "    <tr>\n",
       "      <th>75%</th>\n",
       "      <td>341620.50000</td>\n",
       "      <td>25.000000</td>\n",
       "      <td>2.000000</td>\n",
       "      <td>6.000000</td>\n",
       "      <td>1.000000</td>\n",
       "      <td>0.166667</td>\n",
       "      <td>2.000000</td>\n",
       "      <td>2.000000</td>\n",
       "      <td>5.000000</td>\n",
       "      <td>2.000000</td>\n",
       "      <td>98576.500000</td>\n",
       "      <td>0.189189</td>\n",
       "      <td>1.000000</td>\n",
       "      <td>2.000000</td>\n",
       "      <td>0.125000</td>\n",
       "      <td>5.000000</td>\n",
       "      <td>0.356225</td>\n",
       "    </tr>\n",
       "    <tr>\n",
       "      <th>max</th>\n",
       "      <td>455494.00000</td>\n",
       "      <td>31.000000</td>\n",
       "      <td>6.000000</td>\n",
       "      <td>10.000000</td>\n",
       "      <td>2.000000</td>\n",
       "      <td>1.000000</td>\n",
       "      <td>4.000000</td>\n",
       "      <td>5.000000</td>\n",
       "      <td>5.000000</td>\n",
       "      <td>3.000000</td>\n",
       "      <td>131624.000000</td>\n",
       "      <td>1.000000</td>\n",
       "      <td>2.000000</td>\n",
       "      <td>2.000000</td>\n",
       "      <td>1.000000</td>\n",
       "      <td>9.000000</td>\n",
       "      <td>1.000000</td>\n",
       "    </tr>\n",
       "  </tbody>\n",
       "</table>\n",
       "</div>"
      ],
      "text/plain": [
       "            case_id  Hospital_code  Hospital_type_code  City_Code_Hospital  \\\n",
       "count  455495.00000  455495.000000       455495.000000       455495.000000   \n",
       "mean   227747.00000      17.326335            1.256501            3.592349   \n",
       "std    131490.22477       8.634036            1.532773            2.806344   \n",
       "min         0.00000       0.000000            0.000000            0.000000   \n",
       "25%    113873.50000      10.000000            0.000000            1.000000   \n",
       "50%    227747.00000      18.000000            1.000000            4.000000   \n",
       "75%    341620.50000      25.000000            2.000000            6.000000   \n",
       "max    455494.00000      31.000000            6.000000           10.000000   \n",
       "\n",
       "       Hospital_region_code  Available_Extra_Rooms_in_Hospital     Department  \\\n",
       "count         455495.000000                      455495.000000  455495.000000   \n",
       "mean               0.778461                           0.133173       1.944024   \n",
       "std                0.753238                           0.048625       0.561536   \n",
       "min                0.000000                           0.000000       0.000000   \n",
       "25%                0.000000                           0.083333       2.000000   \n",
       "50%                1.000000                           0.125000       2.000000   \n",
       "75%                1.000000                           0.166667       2.000000   \n",
       "max                2.000000                           1.000000       4.000000   \n",
       "\n",
       "           Ward_Type  Ward_Facility_Code      Bed_Grade      patientid  \\\n",
       "count  455495.000000       455495.000000  455495.000000  455495.000000   \n",
       "mean        1.888087            3.286956       1.628215   65786.793563   \n",
       "std         0.804688            1.689726       0.871929   37968.830850   \n",
       "min         0.000000            0.000000       0.000000       1.000000   \n",
       "25%         1.000000            2.000000       1.000000   32874.000000   \n",
       "50%         2.000000            4.000000       2.000000   65735.000000   \n",
       "75%         2.000000            5.000000       2.000000   98576.500000   \n",
       "max         5.000000            5.000000       3.000000  131624.000000   \n",
       "\n",
       "       City_Code_Patient  Type_of_Admission  Severity_of_Illness  \\\n",
       "count      455495.000000      455495.000000        455495.000000   \n",
       "mean            0.169203           0.782867             1.374033   \n",
       "std             0.127695           0.689184             0.768535   \n",
       "min             0.000000           0.000000             0.000000   \n",
       "25%             0.081081           0.000000             1.000000   \n",
       "50%             0.189189           1.000000             2.000000   \n",
       "75%             0.189189           1.000000             2.000000   \n",
       "max             1.000000           2.000000             2.000000   \n",
       "\n",
       "       Visitors_with_Patient            Age  Admission_Deposit  \n",
       "count          455495.000000  455495.000000      455495.000000  \n",
       "mean                0.102632       4.126757           0.304094  \n",
       "std                 0.055251       1.889698           0.107212  \n",
       "min                 0.000000       0.000000           0.000000  \n",
       "25%                 0.062500       3.000000           0.235573  \n",
       "50%                 0.093750       4.000000           0.290316  \n",
       "75%                 0.125000       5.000000           0.356225  \n",
       "max                 1.000000       9.000000           1.000000  "
      ]
     },
     "execution_count": 36,
     "metadata": {},
     "output_type": "execute_result"
    }
   ],
   "source": [
    "data.describe()"
   ]
  },
  {
   "cell_type": "code",
   "execution_count": 37,
   "metadata": {},
   "outputs": [
    {
     "data": {
      "text/plain": [
       "(455495, 17)"
      ]
     },
     "execution_count": 37,
     "metadata": {},
     "output_type": "execute_result"
    }
   ],
   "source": [
    "data.shape"
   ]
  },
  {
   "cell_type": "code",
   "execution_count": 38,
   "metadata": {},
   "outputs": [
    {
     "name": "stdout",
     "output_type": "stream",
     "text": [
      "<class 'pandas.core.frame.DataFrame'>\n",
      "Int64Index: 455495 entries, 0 to 137056\n",
      "Data columns (total 17 columns):\n",
      "case_id                              455495 non-null int64\n",
      "Hospital_code                        455495 non-null int64\n",
      "Hospital_type_code                   455495 non-null int32\n",
      "City_Code_Hospital                   455495 non-null int64\n",
      "Hospital_region_code                 455495 non-null int32\n",
      "Available_Extra_Rooms_in_Hospital    455495 non-null float64\n",
      "Department                           455495 non-null int32\n",
      "Ward_Type                            455495 non-null int32\n",
      "Ward_Facility_Code                   455495 non-null int32\n",
      "Bed_Grade                            455495 non-null int64\n",
      "patientid                            455495 non-null int64\n",
      "City_Code_Patient                    455495 non-null float64\n",
      "Type_of_Admission                    455495 non-null int32\n",
      "Severity_of_Illness                  455495 non-null int32\n",
      "Visitors_with_Patient                455495 non-null float64\n",
      "Age                                  455495 non-null int32\n",
      "Admission_Deposit                    455495 non-null float64\n",
      "dtypes: float64(4), int32(8), int64(5)\n",
      "memory usage: 48.7 MB\n"
     ]
    }
   ],
   "source": [
    "data.info()"
   ]
  },
  {
   "cell_type": "markdown",
   "metadata": {},
   "source": [
    "### preprocessing of df (train_data) ends here"
   ]
  },
  {
   "cell_type": "code",
   "execution_count": 39,
   "metadata": {},
   "outputs": [],
   "source": [
    "data_train = data.iloc[:318438]\n",
    "data_test = data.iloc[318438:]"
   ]
  },
  {
   "cell_type": "code",
   "execution_count": 40,
   "metadata": {},
   "outputs": [],
   "source": [
    "X = data_train.values\n",
    "test = data_test.values\n",
    "y = stay_train.values"
   ]
  },
  {
   "cell_type": "markdown",
   "metadata": {},
   "source": [
    "noww y_test is ready"
   ]
  },
  {
   "cell_type": "code",
   "execution_count": null,
   "metadata": {},
   "outputs": [
    {
     "name": "stdout",
     "output_type": "stream",
     "text": [
      "Learning rate:  0.05\n",
      "Accuracy score (training): 0.300\n",
      "Accuracy score (validation): 0.300\n"
     ]
    }
   ],
   "source": [
    "lr_list = [0.05, 0.075, 0.1, 0.25, 0.5, 0.75, 1]\n",
    "\n",
    "for learning_rate in lr_list:\n",
    "    gb_clf = GradientBoostingClassifier(n_estimators=20, learning_rate=learning_rate, max_features=2, max_depth=2, random_state=0)\n",
    "    gb_clf.fit(X, y)\n",
    "\n",
    "    print(\"Learning rate: \", learning_rate)\n",
    "    print(\"Accuracy score (training): {0:.3f}\".format(gb_clf.score(X, y)))\n",
    "    print(\"Accuracy score (validation): {0:.3f}\".format(gb_clf.score(X, y)))\n",
    "\n",
    "# # Make predictions and store in 'Survived' column of df_test"
   ]
  },
  {
   "cell_type": "code",
   "execution_count": null,
   "metadata": {},
   "outputs": [],
   "source": [
    "gb_clf2 = GradientBoostingClassifier(n_estimators=20, learning_rate=0.5, max_features=2, max_depth=2, random_state=0)\n",
    "gb_clf2.fit(X, y)\n",
    "Y_pred = gb_clf2.predict(test)\n",
    "\n",
    "#Y_pred = svclassifier.predict(test)\n",
    "df_test['Stay'] = Y_pred"
   ]
  },
  {
   "cell_type": "code",
   "execution_count": null,
   "metadata": {},
   "outputs": [],
   "source": [
    "X_train, X_test, y_train, y_test = train_test_split( X, y, test_size=0.33, random_state=42)"
   ]
  },
  {
   "cell_type": "code",
   "execution_count": null,
   "metadata": {},
   "outputs": [],
   "source": [
    "lr_list = [0.05, 0.075, 0.1, 0.25, 0.5, 0.75, 1]\n",
    "\n",
    "for learning_rate in lr_list:\n",
    "    gb_clf = GradientBoostingClassifier(n_estimators=20, learning_rate=learning_rate, max_features=2, max_depth=2, random_state=0)\n",
    "    gb_clf.fit(X_train, y_train)\n",
    "\n",
    "    print(\"Learning rate: \", learning_rate)\n",
    "    print(\"Accuracy score (training): {0:.3f}\".format(gb_clf.score(X_train, y_train)))\n",
    "    print(\"Accuracy score (validation): {0:.3f}\".format(gb_clf.score(X_test, y_test)))"
   ]
  },
  {
   "cell_type": "code",
   "execution_count": null,
   "metadata": {},
   "outputs": [],
   "source": [
    "gb_clf2 = GradientBoostingClassifier(n_estimators=20, learning_rate=0.5, max_features=2, max_depth=2, random_state=0)\n",
    "gb_clf2.fit(X_train, y_train)\n",
    "y_pred = gb_clf2.predict(X_test)"
   ]
  },
  {
   "cell_type": "code",
   "execution_count": null,
   "metadata": {},
   "outputs": [],
   "source": [
    "from sklearn.metrics import confusion_matrix, accuracy_score, classification_report\n",
    "\n",
    "print(\"\\n\\nConfusion Matrix: \\n\\n\", confusion_matrix(y_test, y_pred))\n",
    "print (\"\\n\\nAccuracy : \\n\\n\", accuracy_score(y_test,y_pred)*100)\n",
    "print(\"\\n\\nReport : \\n\\n\", classification_report(y_test, y_pred))"
   ]
  },
  {
   "cell_type": "code",
   "execution_count": null,
   "metadata": {},
   "outputs": [],
   "source": []
  },
  {
   "cell_type": "code",
   "execution_count": null,
   "metadata": {},
   "outputs": [],
   "source": []
  }
 ],
 "metadata": {
  "kernelspec": {
   "display_name": "Python 3",
   "language": "python",
   "name": "python3"
  },
  "language_info": {
   "codemirror_mode": {
    "name": "ipython",
    "version": 3
   },
   "file_extension": ".py",
   "mimetype": "text/x-python",
   "name": "python",
   "nbconvert_exporter": "python",
   "pygments_lexer": "ipython3",
   "version": "3.7.2"
  }
 },
 "nbformat": 4,
 "nbformat_minor": 2
}
